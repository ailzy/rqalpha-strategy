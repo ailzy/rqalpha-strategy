{
 "cells": [
  {
   "cell_type": "markdown",
   "metadata": {},
   "source": [
    "### 加载库，载入数据"
   ]
  },
  {
   "cell_type": "code",
   "execution_count": 51,
   "metadata": {
    "collapsed": true
   },
   "outputs": [],
   "source": [
    "import pandas as pd\n",
    "import warnings\n",
    "warnings.filterwarnings(\"ignore\")"
   ]
  },
  {
   "cell_type": "code",
   "execution_count": 52,
   "metadata": {
    "collapsed": false
   },
   "outputs": [
    {
     "data": {
      "text/html": [
       "<div>\n",
       "<style>\n",
       "    .dataframe thead tr:only-child th {\n",
       "        text-align: right;\n",
       "    }\n",
       "\n",
       "    .dataframe thead th {\n",
       "        text-align: left;\n",
       "    }\n",
       "\n",
       "    .dataframe tbody tr th {\n",
       "        vertical-align: top;\n",
       "    }\n",
       "</style>\n",
       "<table border=\"1\" class=\"dataframe\">\n",
       "  <thead>\n",
       "    <tr style=\"text-align: right;\">\n",
       "      <th></th>\n",
       "      <th>record_date</th>\n",
       "      <th>user_id</th>\n",
       "      <th>power_consumption</th>\n",
       "    </tr>\n",
       "  </thead>\n",
       "  <tbody>\n",
       "    <tr>\n",
       "      <th>0</th>\n",
       "      <td>2015/1/1</td>\n",
       "      <td>1</td>\n",
       "      <td>1135</td>\n",
       "    </tr>\n",
       "    <tr>\n",
       "      <th>1</th>\n",
       "      <td>2015/1/2</td>\n",
       "      <td>1</td>\n",
       "      <td>570</td>\n",
       "    </tr>\n",
       "    <tr>\n",
       "      <th>2</th>\n",
       "      <td>2015/1/3</td>\n",
       "      <td>1</td>\n",
       "      <td>3418</td>\n",
       "    </tr>\n",
       "    <tr>\n",
       "      <th>3</th>\n",
       "      <td>2015/1/4</td>\n",
       "      <td>1</td>\n",
       "      <td>3968</td>\n",
       "    </tr>\n",
       "    <tr>\n",
       "      <th>4</th>\n",
       "      <td>2015/1/5</td>\n",
       "      <td>1</td>\n",
       "      <td>3986</td>\n",
       "    </tr>\n",
       "  </tbody>\n",
       "</table>\n",
       "</div>"
      ],
      "text/plain": [
       "  record_date  user_id  power_consumption\n",
       "0    2015/1/1        1               1135\n",
       "1    2015/1/2        1                570\n",
       "2    2015/1/3        1               3418\n",
       "3    2015/1/4        1               3968\n",
       "4    2015/1/5        1               3986"
      ]
     },
     "execution_count": 52,
     "metadata": {},
     "output_type": "execute_result"
    }
   ],
   "source": [
    "df = pd.read_csv(\"./Tianchi_power.csv\")\n",
    "df.head()"
   ]
  },
  {
   "cell_type": "markdown",
   "metadata": {},
   "source": [
    "### 格式转换"
   ]
  },
  {
   "cell_type": "code",
   "execution_count": 53,
   "metadata": {
    "collapsed": false
   },
   "outputs": [
    {
     "data": {
      "text/html": [
       "<div>\n",
       "<style>\n",
       "    .dataframe thead tr:only-child th {\n",
       "        text-align: right;\n",
       "    }\n",
       "\n",
       "    .dataframe thead th {\n",
       "        text-align: left;\n",
       "    }\n",
       "\n",
       "    .dataframe tbody tr th {\n",
       "        vertical-align: top;\n",
       "    }\n",
       "</style>\n",
       "<table border=\"1\" class=\"dataframe\">\n",
       "  <thead>\n",
       "    <tr style=\"text-align: right;\">\n",
       "      <th></th>\n",
       "      <th>record_date</th>\n",
       "      <th>user_id</th>\n",
       "      <th>power_consumption</th>\n",
       "    </tr>\n",
       "  </thead>\n",
       "  <tbody>\n",
       "    <tr>\n",
       "      <th>0</th>\n",
       "      <td>2015-01-01</td>\n",
       "      <td>1</td>\n",
       "      <td>1135.0</td>\n",
       "    </tr>\n",
       "    <tr>\n",
       "      <th>1</th>\n",
       "      <td>2015-01-02</td>\n",
       "      <td>1</td>\n",
       "      <td>570.0</td>\n",
       "    </tr>\n",
       "    <tr>\n",
       "      <th>2</th>\n",
       "      <td>2015-01-03</td>\n",
       "      <td>1</td>\n",
       "      <td>3418.0</td>\n",
       "    </tr>\n",
       "    <tr>\n",
       "      <th>3</th>\n",
       "      <td>2015-01-04</td>\n",
       "      <td>1</td>\n",
       "      <td>3968.0</td>\n",
       "    </tr>\n",
       "    <tr>\n",
       "      <th>4</th>\n",
       "      <td>2015-01-05</td>\n",
       "      <td>1</td>\n",
       "      <td>3986.0</td>\n",
       "    </tr>\n",
       "  </tbody>\n",
       "</table>\n",
       "</div>"
      ],
      "text/plain": [
       "  record_date  user_id  power_consumption\n",
       "0  2015-01-01        1             1135.0\n",
       "1  2015-01-02        1              570.0\n",
       "2  2015-01-03        1             3418.0\n",
       "3  2015-01-04        1             3968.0\n",
       "4  2015-01-05        1             3986.0"
      ]
     },
     "execution_count": 53,
     "metadata": {},
     "output_type": "execute_result"
    }
   ],
   "source": [
    "df['record_date'] = pd.to_datetime(df['record_date'])\n",
    "df.loc[(df.user_id==1416) & (df.record_date>'20160731'),'power_consumption'] = 1216933.0\n",
    "df.head()"
   ]
  },
  {
   "cell_type": "markdown",
   "metadata": {},
   "source": [
    "## baseline 1：直接统计平均"
   ]
  },
  {
   "cell_type": "code",
   "execution_count": 54,
   "metadata": {
    "collapsed": false
   },
   "outputs": [
    {
     "data": {
      "text/html": [
       "<div>\n",
       "<style>\n",
       "    .dataframe thead tr:only-child th {\n",
       "        text-align: right;\n",
       "    }\n",
       "\n",
       "    .dataframe thead th {\n",
       "        text-align: left;\n",
       "    }\n",
       "\n",
       "    .dataframe tbody tr th {\n",
       "        vertical-align: top;\n",
       "    }\n",
       "</style>\n",
       "<table border=\"1\" class=\"dataframe\">\n",
       "  <thead>\n",
       "    <tr style=\"text-align: right;\">\n",
       "      <th></th>\n",
       "      <th>record_date</th>\n",
       "      <th>power_consumption</th>\n",
       "    </tr>\n",
       "  </thead>\n",
       "  <tbody>\n",
       "    <tr>\n",
       "      <th>0</th>\n",
       "      <td>2015-01-01</td>\n",
       "      <td>2900575.0</td>\n",
       "    </tr>\n",
       "    <tr>\n",
       "      <th>1</th>\n",
       "      <td>2015-01-02</td>\n",
       "      <td>3158211.0</td>\n",
       "    </tr>\n",
       "    <tr>\n",
       "      <th>2</th>\n",
       "      <td>2015-01-03</td>\n",
       "      <td>3596487.0</td>\n",
       "    </tr>\n",
       "    <tr>\n",
       "      <th>3</th>\n",
       "      <td>2015-01-04</td>\n",
       "      <td>3939672.0</td>\n",
       "    </tr>\n",
       "    <tr>\n",
       "      <th>4</th>\n",
       "      <td>2015-01-05</td>\n",
       "      <td>4101790.0</td>\n",
       "    </tr>\n",
       "  </tbody>\n",
       "</table>\n",
       "</div>"
      ],
      "text/plain": [
       "  record_date  power_consumption\n",
       "0  2015-01-01          2900575.0\n",
       "1  2015-01-02          3158211.0\n",
       "2  2015-01-03          3596487.0\n",
       "3  2015-01-04          3939672.0\n",
       "4  2015-01-05          4101790.0"
      ]
     },
     "execution_count": 54,
     "metadata": {},
     "output_type": "execute_result"
    }
   ],
   "source": [
    "base_df = df[['record_date','power_consumption']].groupby(by='record_date').agg('sum')\n",
    "base_df = base_df.reset_index()\n",
    "base_df.head()"
   ]
  },
  {
   "cell_type": "code",
   "execution_count": 55,
   "metadata": {
    "collapsed": false
   },
   "outputs": [
    {
     "data": {
      "image/png": "[encoded data removed]",
      "text/plain": [
       "<matplotlib.figure.Figure at 0x1102a8390>"
      ]
     },
     "metadata": {},
     "output_type": "display_data"
    },
    {
     "data": {
      "image/png": "[encoded data removed]",
      "text/plain": [
       "<matplotlib.figure.Figure at 0x110279f50>"
      ]
     },
     "metadata": {},
     "output_type": "display_data"
    }
   ],
   "source": [
    "%matplotlib inline\n",
    "import matplotlib.pyplot as plt\n",
    "#trend = base_df[(base_df.record_date>='2015-07-01')&(base_df.record_date<'2015-10-01')]\n",
    "trend = base_df[(base_df.record_date>='2015-06-01')&(base_df.record_date<'2015-09-01')]\n",
    "plt.plot(trend['record_date'], trend['power_consumption'])\n",
    "plt.title('2016 power consumption')\n",
    "plt.show()\n",
    "trend2 = base_df[(base_df.record_date>='2016-06-01')&(base_df.record_date<'2016-09-01')]\n",
    "plt.plot(trend2['record_date'], trend2['power_consumption'])\n",
    "plt.title('2017 power consumption')\n",
    "plt.show()"
   ]
  },
  {
   "cell_type": "code",
   "execution_count": 6,
   "metadata": {
    "collapsed": false
   },
   "outputs": [],
   "source": [
    "num1 = base_df[(base_df.record_date<='2015-06-30')&(base_df.record_date>='2015-06-24')]['power_consumption'].sum()\n",
    "num1 = num1/7\n",
    "\n",
    "num2 = base_df[(base_df.record_date<='2015-07-31')&(base_df.record_date>='2015-07-25')]['power_consumption'].sum()\n",
    "num2 = num2/7\n",
    "\n",
    "num3 = base_df[(base_df.record_date<='2015-08-31')&(base_df.record_date>='2015-08-25')]['power_consumption'].sum()\n",
    "num3 = num3/7"
   ]
  },
  {
   "cell_type": "code",
   "execution_count": 7,
   "metadata": {
    "collapsed": false
   },
   "outputs": [
    {
     "data": {
      "text/plain": [
       "112980"
      ]
     },
     "execution_count": 7,
     "metadata": {},
     "output_type": "execute_result"
    }
   ],
   "source": [
    "diff = (num1+num2-2*num3)/2\n",
    "diff"
   ]
  },
  {
   "cell_type": "code",
   "execution_count": 8,
   "metadata": {
    "collapsed": false
   },
   "outputs": [],
   "source": [
    "commit_tmp_df = base_df[(base_df.record_date>='2016-07-01') & (base_df.record_date<'2016-09-01')].copy()\n",
    "commit_tmp_df['day'] = base_df['record_date'].apply(lambda x: x.day)\n",
    "commit_tmp_df = commit_tmp_df[['power_consumption','day']].groupby(by='day').agg('sum')\n",
    "commit_tmp_df = pd.DataFrame(commit_tmp_df.reset_index())\n",
    "\n",
    "predict_df = pd.date_range('2016/9/1', periods=31, freq='D')\n",
    "predict_df = pd.DataFrame(predict_df)\n",
    "predict_df.columns = ['predict_date']\n",
    "predict_df['predict_power_consumption'] = commit_tmp_df['power_consumption']/2\n",
    "predict_df['predict_power_consumption'] = predict_df['predict_power_consumption'].astype('int')\n",
    "predict_df['predict_power_consumption'] -= diff\n",
    "predict_df = predict_df[(predict_df.predict_date<'2016-10-01')]\n",
    "predict_df['predict_date'] = predict_df['predict_date'].astype(str).apply(lambda x: x.replace(\"-\",\"\"))\n",
    "predict_df.to_csv('Tianchi_power_predict_table.csv',index=False)"
   ]
  },
  {
   "cell_type": "markdown",
   "metadata": {},
   "source": [
    "### 统计方差和均值"
   ]
  },
  {
   "cell_type": "code",
   "execution_count": 56,
   "metadata": {
    "collapsed": true
   },
   "outputs": [],
   "source": [
    "df2 = df[['user_id','power_consumption']].groupby(by='user_id').agg(['mean','median','var'])"
   ]
  },
  {
   "cell_type": "code",
   "execution_count": 57,
   "metadata": {
    "collapsed": false
   },
   "outputs": [
    {
     "data": {
      "text/html": [
       "<div>\n",
       "<style>\n",
       "    .dataframe thead tr:only-child th {\n",
       "        text-align: right;\n",
       "    }\n",
       "\n",
       "    .dataframe thead th {\n",
       "        text-align: left;\n",
       "    }\n",
       "\n",
       "    .dataframe tbody tr th {\n",
       "        vertical-align: top;\n",
       "    }\n",
       "</style>\n",
       "<table border=\"1\" class=\"dataframe\">\n",
       "  <thead>\n",
       "    <tr style=\"text-align: right;\">\n",
       "      <th></th>\n",
       "      <th>user_id</th>\n",
       "      <th>mean</th>\n",
       "      <th>median</th>\n",
       "      <th>var</th>\n",
       "    </tr>\n",
       "  </thead>\n",
       "  <tbody>\n",
       "    <tr>\n",
       "      <th>0</th>\n",
       "      <td>1</td>\n",
       "      <td>665.870279</td>\n",
       "      <td>443.0</td>\n",
       "      <td>8.242558e+05</td>\n",
       "    </tr>\n",
       "    <tr>\n",
       "      <th>1</th>\n",
       "      <td>2</td>\n",
       "      <td>238.164204</td>\n",
       "      <td>254.0</td>\n",
       "      <td>1.060840e+04</td>\n",
       "    </tr>\n",
       "    <tr>\n",
       "      <th>2</th>\n",
       "      <td>3</td>\n",
       "      <td>508.556650</td>\n",
       "      <td>531.0</td>\n",
       "      <td>3.956464e+04</td>\n",
       "    </tr>\n",
       "    <tr>\n",
       "      <th>3</th>\n",
       "      <td>4</td>\n",
       "      <td>2256.428571</td>\n",
       "      <td>735.0</td>\n",
       "      <td>6.956167e+06</td>\n",
       "    </tr>\n",
       "    <tr>\n",
       "      <th>4</th>\n",
       "      <td>5</td>\n",
       "      <td>1096.886700</td>\n",
       "      <td>1021.0</td>\n",
       "      <td>3.702587e+05</td>\n",
       "    </tr>\n",
       "  </tbody>\n",
       "</table>\n",
       "</div>"
      ],
      "text/plain": [
       "   user_id         mean  median           var\n",
       "0        1   665.870279   443.0  8.242558e+05\n",
       "1        2   238.164204   254.0  1.060840e+04\n",
       "2        3   508.556650   531.0  3.956464e+04\n",
       "3        4  2256.428571   735.0  6.956167e+06\n",
       "4        5  1096.886700  1021.0  3.702587e+05"
      ]
     },
     "execution_count": 57,
     "metadata": {},
     "output_type": "execute_result"
    }
   ],
   "source": [
    "df2.reset_index(col_level=1)\n",
    "df2.columns = df2.columns.get_level_values(1)\n",
    "df2 = df2.reset_index()\n",
    "df2.head()"
   ]
  },
  {
   "cell_type": "markdown",
   "metadata": {},
   "source": [
    "## baseline 2：特征工程+lightGBM"
   ]
  },
  {
   "cell_type": "markdown",
   "metadata": {},
   "source": [
    "### baseline 2.1 直接对每天的总量进行回归拟合"
   ]
  },
  {
   "cell_type": "code",
   "execution_count": 58,
   "metadata": {
    "collapsed": false
   },
   "outputs": [
    {
     "data": {
      "text/html": [
       "<div>\n",
       "<style>\n",
       "    .dataframe thead tr:only-child th {\n",
       "        text-align: right;\n",
       "    }\n",
       "\n",
       "    .dataframe thead th {\n",
       "        text-align: left;\n",
       "    }\n",
       "\n",
       "    .dataframe tbody tr th {\n",
       "        vertical-align: top;\n",
       "    }\n",
       "</style>\n",
       "<table border=\"1\" class=\"dataframe\">\n",
       "  <thead>\n",
       "    <tr style=\"text-align: right;\">\n",
       "      <th></th>\n",
       "      <th>record_date</th>\n",
       "      <th>power_consumption</th>\n",
       "    </tr>\n",
       "  </thead>\n",
       "  <tbody>\n",
       "    <tr>\n",
       "      <th>578</th>\n",
       "      <td>2016-09-01</td>\n",
       "      <td>4570506.0</td>\n",
       "    </tr>\n",
       "    <tr>\n",
       "      <th>579</th>\n",
       "      <td>2016-09-02</td>\n",
       "      <td>4608467.0</td>\n",
       "    </tr>\n",
       "    <tr>\n",
       "      <th>580</th>\n",
       "      <td>2016-09-03</td>\n",
       "      <td>4578734.0</td>\n",
       "    </tr>\n",
       "    <tr>\n",
       "      <th>581</th>\n",
       "      <td>2016-09-04</td>\n",
       "      <td>4665000.0</td>\n",
       "    </tr>\n",
       "    <tr>\n",
       "      <th>582</th>\n",
       "      <td>2016-09-05</td>\n",
       "      <td>4704315.0</td>\n",
       "    </tr>\n",
       "  </tbody>\n",
       "</table>\n",
       "</div>"
      ],
      "text/plain": [
       "    record_date  power_consumption\n",
       "578  2016-09-01          4570506.0\n",
       "579  2016-09-02          4608467.0\n",
       "580  2016-09-03          4578734.0\n",
       "581  2016-09-04          4665000.0\n",
       "582  2016-09-05          4704315.0"
      ]
     },
     "execution_count": 58,
     "metadata": {},
     "output_type": "execute_result"
    }
   ],
   "source": [
    "df_test = base_df[(base_df.record_date>='2016-08-01')&(base_df.record_date<='2016-08-30')]\n",
    "df_test['record_date'] = pd.DataFrame(df_test['record_date']+pd.Timedelta('31 days'))\n",
    "df_test.head()"
   ]
  },
  {
   "cell_type": "code",
   "execution_count": 59,
   "metadata": {
    "collapsed": false
   },
   "outputs": [],
   "source": [
    "base_df = pd.concat([base_df, df_test]).sort_values(['record_date'])"
   ]
  },
  {
   "cell_type": "code",
   "execution_count": 60,
   "metadata": {
    "collapsed": true
   },
   "outputs": [],
   "source": [
    "base_df['dow'] = base_df['record_date'].apply(lambda x: x.dayofweek)\n",
    "base_df['doy'] = base_df['record_date'].apply(lambda x: x.dayofyear)\n",
    "base_df['day'] = base_df['record_date'].apply(lambda x: x.day)\n",
    "base_df['month'] = base_df['record_date'].apply(lambda x: x.month)\n",
    "base_df['year'] = base_df['record_date'].apply(lambda x: x.year)"
   ]
  },
  {
   "cell_type": "code",
   "execution_count": 61,
   "metadata": {
    "collapsed": true
   },
   "outputs": [],
   "source": [
    "def map_season(month):\n",
    "    month_dic = {1:1, 2:1, 3:2, 4:2, 5:3, 6:3, 7:3, 8:3, 9:3, 10:4, 11:4, 12:1}\n",
    "    return month_dic[month]\n",
    "\n",
    "base_df['season'] = base_df['month'].apply(lambda x: map_season(x))"
   ]
  },
  {
   "cell_type": "code",
   "execution_count": 62,
   "metadata": {
    "collapsed": false
   },
   "outputs": [
    {
     "data": {
      "text/html": [
       "<div>\n",
       "<style>\n",
       "    .dataframe thead tr:only-child th {\n",
       "        text-align: right;\n",
       "    }\n",
       "\n",
       "    .dataframe thead th {\n",
       "        text-align: left;\n",
       "    }\n",
       "\n",
       "    .dataframe tbody tr th {\n",
       "        vertical-align: top;\n",
       "    }\n",
       "</style>\n",
       "<table border=\"1\" class=\"dataframe\">\n",
       "  <thead>\n",
       "    <tr style=\"text-align: right;\">\n",
       "      <th></th>\n",
       "      <th>record_date</th>\n",
       "      <th>power_consumption</th>\n",
       "      <th>dow</th>\n",
       "      <th>doy</th>\n",
       "      <th>day</th>\n",
       "      <th>month</th>\n",
       "      <th>year</th>\n",
       "      <th>season</th>\n",
       "    </tr>\n",
       "  </thead>\n",
       "  <tbody>\n",
       "    <tr>\n",
       "      <th>0</th>\n",
       "      <td>2015-01-01</td>\n",
       "      <td>2900575.0</td>\n",
       "      <td>3</td>\n",
       "      <td>1</td>\n",
       "      <td>1</td>\n",
       "      <td>1</td>\n",
       "      <td>2015</td>\n",
       "      <td>1</td>\n",
       "    </tr>\n",
       "    <tr>\n",
       "      <th>1</th>\n",
       "      <td>2015-01-02</td>\n",
       "      <td>3158211.0</td>\n",
       "      <td>4</td>\n",
       "      <td>2</td>\n",
       "      <td>2</td>\n",
       "      <td>1</td>\n",
       "      <td>2015</td>\n",
       "      <td>1</td>\n",
       "    </tr>\n",
       "    <tr>\n",
       "      <th>2</th>\n",
       "      <td>2015-01-03</td>\n",
       "      <td>3596487.0</td>\n",
       "      <td>5</td>\n",
       "      <td>3</td>\n",
       "      <td>3</td>\n",
       "      <td>1</td>\n",
       "      <td>2015</td>\n",
       "      <td>1</td>\n",
       "    </tr>\n",
       "    <tr>\n",
       "      <th>3</th>\n",
       "      <td>2015-01-04</td>\n",
       "      <td>3939672.0</td>\n",
       "      <td>6</td>\n",
       "      <td>4</td>\n",
       "      <td>4</td>\n",
       "      <td>1</td>\n",
       "      <td>2015</td>\n",
       "      <td>1</td>\n",
       "    </tr>\n",
       "    <tr>\n",
       "      <th>4</th>\n",
       "      <td>2015-01-05</td>\n",
       "      <td>4101790.0</td>\n",
       "      <td>0</td>\n",
       "      <td>5</td>\n",
       "      <td>5</td>\n",
       "      <td>1</td>\n",
       "      <td>2015</td>\n",
       "      <td>1</td>\n",
       "    </tr>\n",
       "  </tbody>\n",
       "</table>\n",
       "</div>"
      ],
      "text/plain": [
       "  record_date  power_consumption  dow  doy  day  month  year  season\n",
       "0  2015-01-01          2900575.0    3    1    1      1  2015       1\n",
       "1  2015-01-02          3158211.0    4    2    2      1  2015       1\n",
       "2  2015-01-03          3596487.0    5    3    3      1  2015       1\n",
       "3  2015-01-04          3939672.0    6    4    4      1  2015       1\n",
       "4  2015-01-05          4101790.0    0    5    5      1  2015       1"
      ]
     },
     "execution_count": 62,
     "metadata": {},
     "output_type": "execute_result"
    }
   ],
   "source": [
    "base_df.head()"
   ]
  },
  {
   "cell_type": "code",
   "execution_count": 63,
   "metadata": {
    "collapsed": false
   },
   "outputs": [
    {
     "data": {
      "text/html": [
       "<div>\n",
       "<style>\n",
       "    .dataframe thead tr:only-child th {\n",
       "        text-align: right;\n",
       "    }\n",
       "\n",
       "    .dataframe thead th {\n",
       "        text-align: left;\n",
       "    }\n",
       "\n",
       "    .dataframe tbody tr th {\n",
       "        vertical-align: top;\n",
       "    }\n",
       "</style>\n",
       "<table border=\"1\" class=\"dataframe\">\n",
       "  <thead>\n",
       "    <tr>\n",
       "      <th></th>\n",
       "      <th></th>\n",
       "      <th colspan=\"2\" halign=\"left\">power_consumption</th>\n",
       "    </tr>\n",
       "    <tr>\n",
       "      <th></th>\n",
       "      <th></th>\n",
       "      <th>mean</th>\n",
       "      <th>std</th>\n",
       "    </tr>\n",
       "    <tr>\n",
       "      <th>year</th>\n",
       "      <th>month</th>\n",
       "      <th></th>\n",
       "      <th></th>\n",
       "    </tr>\n",
       "  </thead>\n",
       "  <tbody>\n",
       "    <tr>\n",
       "      <th rowspan=\"5\" valign=\"top\">2015</th>\n",
       "      <th>1</th>\n",
       "      <td>3.961383e+06</td>\n",
       "      <td>303629.486622</td>\n",
       "    </tr>\n",
       "    <tr>\n",
       "      <th>2</th>\n",
       "      <td>2.795137e+06</td>\n",
       "      <td>769724.218730</td>\n",
       "    </tr>\n",
       "    <tr>\n",
       "      <th>3</th>\n",
       "      <td>3.478844e+06</td>\n",
       "      <td>564746.940430</td>\n",
       "    </tr>\n",
       "    <tr>\n",
       "      <th>4</th>\n",
       "      <td>3.768315e+06</td>\n",
       "      <td>190781.409187</td>\n",
       "    </tr>\n",
       "    <tr>\n",
       "      <th>5</th>\n",
       "      <td>3.755262e+06</td>\n",
       "      <td>269088.249265</td>\n",
       "    </tr>\n",
       "  </tbody>\n",
       "</table>\n",
       "</div>"
      ],
      "text/plain": [
       "           power_consumption               \n",
       "                        mean            std\n",
       "year month                                 \n",
       "2015 1          3.961383e+06  303629.486622\n",
       "     2          2.795137e+06  769724.218730\n",
       "     3          3.478844e+06  564746.940430\n",
       "     4          3.768315e+06  190781.409187\n",
       "     5          3.755262e+06  269088.249265"
      ]
     },
     "execution_count": 63,
     "metadata": {},
     "output_type": "execute_result"
    }
   ],
   "source": [
    "base_df_stats = new_df = base_df[['power_consumption','year','month']].groupby(by=['year', 'month']).agg(['mean', 'std'])\n",
    "base_df_stats.head()"
   ]
  },
  {
   "cell_type": "code",
   "execution_count": 64,
   "metadata": {
    "collapsed": false
   },
   "outputs": [
    {
     "data": {
      "text/html": [
       "<div>\n",
       "<style>\n",
       "    .dataframe thead tr:only-child th {\n",
       "        text-align: right;\n",
       "    }\n",
       "\n",
       "    .dataframe thead th {\n",
       "        text-align: left;\n",
       "    }\n",
       "\n",
       "    .dataframe tbody tr th {\n",
       "        vertical-align: top;\n",
       "    }\n",
       "</style>\n",
       "<table border=\"1\" class=\"dataframe\">\n",
       "  <thead>\n",
       "    <tr style=\"text-align: right;\">\n",
       "      <th></th>\n",
       "      <th>year</th>\n",
       "      <th>month</th>\n",
       "      <th>mean</th>\n",
       "      <th>std</th>\n",
       "    </tr>\n",
       "  </thead>\n",
       "  <tbody>\n",
       "    <tr>\n",
       "      <th>0</th>\n",
       "      <td>2015</td>\n",
       "      <td>1</td>\n",
       "      <td>3.961383e+06</td>\n",
       "      <td>303629.486622</td>\n",
       "    </tr>\n",
       "    <tr>\n",
       "      <th>1</th>\n",
       "      <td>2015</td>\n",
       "      <td>2</td>\n",
       "      <td>2.795137e+06</td>\n",
       "      <td>769724.218730</td>\n",
       "    </tr>\n",
       "    <tr>\n",
       "      <th>2</th>\n",
       "      <td>2015</td>\n",
       "      <td>3</td>\n",
       "      <td>3.478844e+06</td>\n",
       "      <td>564746.940430</td>\n",
       "    </tr>\n",
       "    <tr>\n",
       "      <th>3</th>\n",
       "      <td>2015</td>\n",
       "      <td>4</td>\n",
       "      <td>3.768315e+06</td>\n",
       "      <td>190781.409187</td>\n",
       "    </tr>\n",
       "    <tr>\n",
       "      <th>4</th>\n",
       "      <td>2015</td>\n",
       "      <td>5</td>\n",
       "      <td>3.755262e+06</td>\n",
       "      <td>269088.249265</td>\n",
       "    </tr>\n",
       "  </tbody>\n",
       "</table>\n",
       "</div>"
      ],
      "text/plain": [
       "   year  month          mean            std\n",
       "0  2015      1  3.961383e+06  303629.486622\n",
       "1  2015      2  2.795137e+06  769724.218730\n",
       "2  2015      3  3.478844e+06  564746.940430\n",
       "3  2015      4  3.768315e+06  190781.409187\n",
       "4  2015      5  3.755262e+06  269088.249265"
      ]
     },
     "execution_count": 64,
     "metadata": {},
     "output_type": "execute_result"
    }
   ],
   "source": [
    "base_df_stats.columns = base_df_stats.columns.droplevel(0)\n",
    "base_df_stats = base_df_stats.reset_index()\n",
    "base_df_stats.head()"
   ]
  },
  {
   "cell_type": "code",
   "execution_count": 65,
   "metadata": {
    "collapsed": false
   },
   "outputs": [
    {
     "data": {
      "text/html": [
       "<div>\n",
       "<style>\n",
       "    .dataframe thead tr:only-child th {\n",
       "        text-align: right;\n",
       "    }\n",
       "\n",
       "    .dataframe thead th {\n",
       "        text-align: left;\n",
       "    }\n",
       "\n",
       "    .dataframe tbody tr th {\n",
       "        vertical-align: top;\n",
       "    }\n",
       "</style>\n",
       "<table border=\"1\" class=\"dataframe\">\n",
       "  <thead>\n",
       "    <tr style=\"text-align: right;\">\n",
       "      <th></th>\n",
       "      <th>year</th>\n",
       "      <th>month</th>\n",
       "      <th>mean</th>\n",
       "      <th>std</th>\n",
       "      <th>1_m_mean</th>\n",
       "      <th>2_m_mean</th>\n",
       "      <th>1_m_std</th>\n",
       "      <th>2_m_std</th>\n",
       "    </tr>\n",
       "  </thead>\n",
       "  <tbody>\n",
       "    <tr>\n",
       "      <th>0</th>\n",
       "      <td>2015</td>\n",
       "      <td>1</td>\n",
       "      <td>3.961383e+06</td>\n",
       "      <td>303629.486622</td>\n",
       "      <td>NaN</td>\n",
       "      <td>NaN</td>\n",
       "      <td>NaN</td>\n",
       "      <td>NaN</td>\n",
       "    </tr>\n",
       "    <tr>\n",
       "      <th>1</th>\n",
       "      <td>2015</td>\n",
       "      <td>2</td>\n",
       "      <td>2.795137e+06</td>\n",
       "      <td>769724.218730</td>\n",
       "      <td>3.961383e+06</td>\n",
       "      <td>NaN</td>\n",
       "      <td>303629.486622</td>\n",
       "      <td>NaN</td>\n",
       "    </tr>\n",
       "    <tr>\n",
       "      <th>2</th>\n",
       "      <td>2015</td>\n",
       "      <td>3</td>\n",
       "      <td>3.478844e+06</td>\n",
       "      <td>564746.940430</td>\n",
       "      <td>2.795137e+06</td>\n",
       "      <td>3.961383e+06</td>\n",
       "      <td>769724.218730</td>\n",
       "      <td>303629.486622</td>\n",
       "    </tr>\n",
       "    <tr>\n",
       "      <th>3</th>\n",
       "      <td>2015</td>\n",
       "      <td>4</td>\n",
       "      <td>3.768315e+06</td>\n",
       "      <td>190781.409187</td>\n",
       "      <td>3.478844e+06</td>\n",
       "      <td>2.795137e+06</td>\n",
       "      <td>564746.940430</td>\n",
       "      <td>769724.218730</td>\n",
       "    </tr>\n",
       "    <tr>\n",
       "      <th>4</th>\n",
       "      <td>2015</td>\n",
       "      <td>5</td>\n",
       "      <td>3.755262e+06</td>\n",
       "      <td>269088.249265</td>\n",
       "      <td>3.768315e+06</td>\n",
       "      <td>3.478844e+06</td>\n",
       "      <td>190781.409187</td>\n",
       "      <td>564746.940430</td>\n",
       "    </tr>\n",
       "  </tbody>\n",
       "</table>\n",
       "</div>"
      ],
      "text/plain": [
       "   year  month          mean            std      1_m_mean      2_m_mean  \\\n",
       "0  2015      1  3.961383e+06  303629.486622           NaN           NaN   \n",
       "1  2015      2  2.795137e+06  769724.218730  3.961383e+06           NaN   \n",
       "2  2015      3  3.478844e+06  564746.940430  2.795137e+06  3.961383e+06   \n",
       "3  2015      4  3.768315e+06  190781.409187  3.478844e+06  2.795137e+06   \n",
       "4  2015      5  3.755262e+06  269088.249265  3.768315e+06  3.478844e+06   \n",
       "\n",
       "         1_m_std        2_m_std  \n",
       "0            NaN            NaN  \n",
       "1  303629.486622            NaN  \n",
       "2  769724.218730  303629.486622  \n",
       "3  564746.940430  769724.218730  \n",
       "4  190781.409187  564746.940430  "
      ]
     },
     "execution_count": 65,
     "metadata": {},
     "output_type": "execute_result"
    }
   ],
   "source": [
    "base_df_stats['1_m_mean'] = base_df_stats['mean'].shift(1)\n",
    "base_df_stats['2_m_mean'] = base_df_stats['mean'].shift(2)\n",
    "base_df_stats['1_m_std'] = base_df_stats['std'].shift(1)\n",
    "base_df_stats['2_m_std'] = base_df_stats['std'].shift(2)\n",
    "base_df_stats.head()"
   ]
  },
  {
   "cell_type": "code",
   "execution_count": 66,
   "metadata": {
    "collapsed": true
   },
   "outputs": [],
   "source": [
    "data_df = pd.merge(base_df, base_df_stats[['year', 'month', '1_m_mean', '2_m_mean', '1_m_std', '2_m_std']], how='inner', on=['year', 'month'])\n",
    "data_df = data_df[~pd.isnull(data_df['2_m_mean'])]"
   ]
  },
  {
   "cell_type": "code",
   "execution_count": 67,
   "metadata": {
    "collapsed": false
   },
   "outputs": [
    {
     "data": {
      "text/html": [
       "<div>\n",
       "<style>\n",
       "    .dataframe thead tr:only-child th {\n",
       "        text-align: right;\n",
       "    }\n",
       "\n",
       "    .dataframe thead th {\n",
       "        text-align: left;\n",
       "    }\n",
       "\n",
       "    .dataframe tbody tr th {\n",
       "        vertical-align: top;\n",
       "    }\n",
       "</style>\n",
       "<table border=\"1\" class=\"dataframe\">\n",
       "  <thead>\n",
       "    <tr style=\"text-align: right;\">\n",
       "      <th></th>\n",
       "      <th>record_date</th>\n",
       "      <th>power_consumption</th>\n",
       "      <th>dow</th>\n",
       "      <th>doy</th>\n",
       "      <th>day</th>\n",
       "      <th>month</th>\n",
       "      <th>year</th>\n",
       "      <th>season</th>\n",
       "      <th>1_m_mean</th>\n",
       "      <th>2_m_mean</th>\n",
       "      <th>1_m_std</th>\n",
       "      <th>2_m_std</th>\n",
       "    </tr>\n",
       "  </thead>\n",
       "  <tbody>\n",
       "    <tr>\n",
       "      <th>634</th>\n",
       "      <td>2016-09-26</td>\n",
       "      <td>4662827.0</td>\n",
       "      <td>0</td>\n",
       "      <td>270</td>\n",
       "      <td>26</td>\n",
       "      <td>9</td>\n",
       "      <td>2016</td>\n",
       "      <td>3</td>\n",
       "      <td>4612634.0</td>\n",
       "      <td>4.458408e+06</td>\n",
       "      <td>215769.810349</td>\n",
       "      <td>276925.542329</td>\n",
       "    </tr>\n",
       "    <tr>\n",
       "      <th>635</th>\n",
       "      <td>2016-09-27</td>\n",
       "      <td>4296735.0</td>\n",
       "      <td>1</td>\n",
       "      <td>271</td>\n",
       "      <td>27</td>\n",
       "      <td>9</td>\n",
       "      <td>2016</td>\n",
       "      <td>3</td>\n",
       "      <td>4612634.0</td>\n",
       "      <td>4.458408e+06</td>\n",
       "      <td>215769.810349</td>\n",
       "      <td>276925.542329</td>\n",
       "    </tr>\n",
       "    <tr>\n",
       "      <th>636</th>\n",
       "      <td>2016-09-28</td>\n",
       "      <td>4139782.0</td>\n",
       "      <td>2</td>\n",
       "      <td>272</td>\n",
       "      <td>28</td>\n",
       "      <td>9</td>\n",
       "      <td>2016</td>\n",
       "      <td>3</td>\n",
       "      <td>4612634.0</td>\n",
       "      <td>4.458408e+06</td>\n",
       "      <td>215769.810349</td>\n",
       "      <td>276925.542329</td>\n",
       "    </tr>\n",
       "    <tr>\n",
       "      <th>637</th>\n",
       "      <td>2016-09-29</td>\n",
       "      <td>4360483.0</td>\n",
       "      <td>3</td>\n",
       "      <td>273</td>\n",
       "      <td>29</td>\n",
       "      <td>9</td>\n",
       "      <td>2016</td>\n",
       "      <td>3</td>\n",
       "      <td>4612634.0</td>\n",
       "      <td>4.458408e+06</td>\n",
       "      <td>215769.810349</td>\n",
       "      <td>276925.542329</td>\n",
       "    </tr>\n",
       "    <tr>\n",
       "      <th>638</th>\n",
       "      <td>2016-09-30</td>\n",
       "      <td>4272193.0</td>\n",
       "      <td>4</td>\n",
       "      <td>274</td>\n",
       "      <td>30</td>\n",
       "      <td>9</td>\n",
       "      <td>2016</td>\n",
       "      <td>3</td>\n",
       "      <td>4612634.0</td>\n",
       "      <td>4.458408e+06</td>\n",
       "      <td>215769.810349</td>\n",
       "      <td>276925.542329</td>\n",
       "    </tr>\n",
       "  </tbody>\n",
       "</table>\n",
       "</div>"
      ],
      "text/plain": [
       "    record_date  power_consumption  dow  doy  day  month  year  season  \\\n",
       "634  2016-09-26          4662827.0    0  270   26      9  2016       3   \n",
       "635  2016-09-27          4296735.0    1  271   27      9  2016       3   \n",
       "636  2016-09-28          4139782.0    2  272   28      9  2016       3   \n",
       "637  2016-09-29          4360483.0    3  273   29      9  2016       3   \n",
       "638  2016-09-30          4272193.0    4  274   30      9  2016       3   \n",
       "\n",
       "      1_m_mean      2_m_mean        1_m_std        2_m_std  \n",
       "634  4612634.0  4.458408e+06  215769.810349  276925.542329  \n",
       "635  4612634.0  4.458408e+06  215769.810349  276925.542329  \n",
       "636  4612634.0  4.458408e+06  215769.810349  276925.542329  \n",
       "637  4612634.0  4.458408e+06  215769.810349  276925.542329  \n",
       "638  4612634.0  4.458408e+06  215769.810349  276925.542329  "
      ]
     },
     "execution_count": 67,
     "metadata": {},
     "output_type": "execute_result"
    }
   ],
   "source": [
    "data_df.tail()"
   ]
  },
  {
   "cell_type": "code",
   "execution_count": 68,
   "metadata": {
    "collapsed": false
   },
   "outputs": [],
   "source": [
    "data_df.to_csv('./data_all_20170524.csv', index=False)"
   ]
  },
  {
   "cell_type": "code",
   "execution_count": 47,
   "metadata": {
    "collapsed": false
   },
   "outputs": [],
   "source": [
    "train_data = data_df[data_df.record_date<'2016-09-01']\\\n",
    "[['dow','doy','day','month','year','season','1_m_mean','2_m_mean','1_m_std','2_m_std']]\n",
    "\n",
    "test_data = data_df[data_df.record_date>='2016-09-01']\\\n",
    "[['dow','doy','day','month','year','season','1_m_mean','2_m_mean','1_m_std','2_m_std']]\n",
    "\n",
    "train_target = data_df[data_df.record_date<'2016-09-01'][['power_consumption']]"
   ]
  },
  {
   "cell_type": "code",
   "execution_count": 48,
   "metadata": {
    "collapsed": true
   },
   "outputs": [],
   "source": [
    "train_lgb = train_data.copy()\n",
    "train_lgb[['dow','doy','day','month','year','season']] = train_lgb[['dow','doy','day','month','year','season']]\\\n",
    ".astype(str)\n",
    "test_lgb = test_data.copy()\n",
    "test_lgb[['dow','doy','day','month','year','season']] = test_lgb[['dow','doy','day','month','year','season']]\\\n",
    ".astype(str)"
   ]
  },
  {
   "cell_type": "code",
   "execution_count": 49,
   "metadata": {
    "collapsed": false
   },
   "outputs": [],
   "source": [
    "X_lgb = train_lgb.values\n",
    "y_lgb = train_target.values.reshape(train_target.values.shape[0],)"
   ]
  },
  {
   "cell_type": "code",
   "execution_count": 50,
   "metadata": {
    "collapsed": false
   },
   "outputs": [
    {
     "data": {
      "text/plain": [
       "array(['6', '60', '1', '3', '2015', '2', 2795136.535714286,\n",
       "       3961383.0967741935, 769724.2187298612, 303629.48662213905], dtype=object)"
      ]
     },
     "execution_count": 50,
     "metadata": {},
     "output_type": "execute_result"
    }
   ],
   "source": [
    "X_lgb[0,:]"
   ]
  },
  {
   "cell_type": "code",
   "execution_count": 25,
   "metadata": {
    "collapsed": false
   },
   "outputs": [
    {
     "name": "stdout",
     "output_type": "stream",
     "text": [
      "----------------------cv results--------------------------\n",
      "{'std_train_score': array([ 0.00113458,  0.00113458,  0.00113458,  0.00215715,  0.00215715,\n",
      "        0.00215715,  0.00421935,  0.00421935,  0.00421935,  0.00872854,\n",
      "        0.00872854,  0.00872854,  0.01076977,  0.01076977,  0.01076977,\n",
      "        0.01252677,  0.01252677,  0.01252677,  0.01475307,  0.01475307,\n",
      "        0.01475307,  0.01733352,  0.01733352,  0.01733352,  0.00113464,\n",
      "        0.00113464,  0.00113464,  0.00215998,  0.00215998,  0.00215998,\n",
      "        0.004229  ,  0.004229  ,  0.004229  ,  0.00875005,  0.00875005,\n",
      "        0.00875005,  0.01078883,  0.01078883,  0.01078883,  0.01254665,\n",
      "        0.01254665,  0.01254665,  0.01477305,  0.01477305,  0.01477305,\n",
      "        0.01734923,  0.01734923,  0.01734923,  0.00113403,  0.00113403,\n",
      "        0.00113403,  0.00215968,  0.00215968,  0.00215968,  0.00422143,\n",
      "        0.00422143,  0.00422143,  0.00874276,  0.00874276,  0.00874276,\n",
      "        0.01077546,  0.01077546,  0.01077546,  0.01252678,  0.01252678,\n",
      "        0.01252678,  0.01474933,  0.01474933,  0.01474933,  0.01732577,\n",
      "        0.01732577,  0.01732577,  0.00113442,  0.00113442,  0.00113442,\n",
      "        0.00216079,  0.00216079,  0.00216079,  0.00422153,  0.00422153,\n",
      "        0.00422153,  0.00874112,  0.00874112,  0.00874112,  0.01076789,\n",
      "        0.01076789,  0.01076789,  0.01251293,  0.01251293,  0.01251293,\n",
      "        0.01473297,  0.01473297,  0.01473297,  0.01730504,  0.01730504,\n",
      "        0.01730504]), 'rank_test_score': array([85, 85, 85, 73, 73, 75, 70, 70, 72, 58, 58, 58, 46, 46, 48, 34, 34,\n",
      "       36, 10, 10, 10, 24, 22, 22, 88, 88, 88, 76, 76, 76, 65, 64, 66, 49,\n",
      "       49, 49, 44, 43, 44, 31, 31, 33,  7,  7,  7, 14, 14, 13, 91, 91, 91,\n",
      "       79, 79, 79, 62, 62, 61, 53, 53, 52, 40, 40, 42, 29, 28, 29,  5,  6,\n",
      "        4, 17, 18, 16, 94, 94, 94, 82, 82, 82, 67, 67, 67, 56, 56, 55, 38,\n",
      "       39, 37, 27, 26, 25,  1,  3,  1, 19, 21, 20], dtype=int32), 'mean_score_time': array([ 0.00919199,  0.01219169,  0.00971564,  0.00987736,  0.01083096,\n",
      "        0.01070825,  0.01101208,  0.01164174,  0.0120573 ,  0.01489266,\n",
      "        0.01462841,  0.01762096,  0.01383034,  0.01635734,  0.01828694,\n",
      "        0.01404492,  0.0173974 ,  0.01997741,  0.01581939,  0.02024968,\n",
      "        0.02259429,  0.02042301,  0.02502497,  0.03756173,  0.0106264 ,\n",
      "        0.01053325,  0.01053723,  0.0110387 ,  0.0112807 ,  0.01207868,\n",
      "        0.0136323 ,  0.01497634,  0.01337592,  0.01374372,  0.01543395,\n",
      "        0.01657526,  0.01351833,  0.01696968,  0.01879636,  0.01438737,\n",
      "        0.01750135,  0.02025064,  0.01620269,  0.01978834,  0.02386467,\n",
      "        0.01871101,  0.02463897,  0.03042293,  0.00919032,  0.01031764,\n",
      "        0.01010633,  0.00954469,  0.00980926,  0.01083231,  0.01093102,\n",
      "        0.0112857 ,  0.01418598,  0.01279362,  0.01457294,  0.01618767,\n",
      "        0.01355537,  0.01649992,  0.01840027,  0.01444904,  0.0178957 ,\n",
      "        0.02002732,  0.01604231,  0.01959109,  0.02566799,  0.01903733,\n",
      "        0.02587406,  0.02788528,  0.0102543 ,  0.00965166,  0.00962957,\n",
      "        0.01060756,  0.01088468,  0.01021838,  0.0105594 ,  0.01133243,\n",
      "        0.0123953 ,  0.01299842,  0.01794505,  0.01837031,  0.01580334,\n",
      "        0.01605638,  0.01816026,  0.01480794,  0.01832628,  0.02035507,\n",
      "        0.01712235,  0.02022123,  0.02259994,  0.01864274,  0.02726762,\n",
      "        0.0306143 ]), 'std_test_score': array([ 0.45859985,  0.45859985,  0.45859985,  0.44300553,  0.44300553,\n",
      "        0.44300553,  0.41906078,  0.41906078,  0.41906078,  0.37637457,\n",
      "        0.37637457,  0.37637457,  0.35839559,  0.35839559,  0.35839559,\n",
      "        0.34409101,  0.34409101,  0.34409101,  0.32757591,  0.32757591,\n",
      "        0.32757591,  0.31840035,  0.31840035,  0.31840035,  0.45857933,\n",
      "        0.45857933,  0.45857933,  0.44298873,  0.44298873,  0.44298873,\n",
      "        0.41888881,  0.41888881,  0.41888881,  0.37594692,  0.37594692,\n",
      "        0.37594692,  0.35771219,  0.35771219,  0.35771219,  0.34302905,\n",
      "        0.34302905,  0.34302905,  0.32644465,  0.32644465,  0.32644465,\n",
      "        0.3173655 ,  0.3173655 ,  0.3173655 ,  0.4585549 ,  0.4585549 ,\n",
      "        0.4585549 ,  0.44301988,  0.44301988,  0.44301988,  0.41896898,\n",
      "        0.41896898,  0.41896898,  0.37630076,  0.37630076,  0.37630076,\n",
      "        0.35773646,  0.35773646,  0.35773646,  0.34293097,  0.34293097,\n",
      "        0.34293097,  0.32584582,  0.32584582,  0.32584582,  0.31700236,\n",
      "        0.31700236,  0.31700236,  0.4585397 ,  0.4585397 ,  0.4585397 ,\n",
      "        0.44300368,  0.44300368,  0.44300368,  0.41885029,  0.41885029,\n",
      "        0.41885029,  0.3760476 ,  0.3760476 ,  0.3760476 ,  0.35743364,\n",
      "        0.35743364,  0.35743364,  0.34267236,  0.34267236,  0.34267236,\n",
      "        0.32559338,  0.32559338,  0.32559338,  0.31713037,  0.31713037,\n",
      "        0.31713037]), 'param_learning_rate': masked_array(data = [0.01 0.01 0.01 0.01 0.01 0.01 0.01 0.01 0.01 0.01 0.01 0.01 0.01 0.01 0.01\n",
      " 0.01 0.01 0.01 0.01 0.01 0.01 0.01 0.01 0.01 0.02 0.02 0.02 0.02 0.02 0.02\n",
      " 0.02 0.02 0.02 0.02 0.02 0.02 0.02 0.02 0.02 0.02 0.02 0.02 0.02 0.02 0.02\n",
      " 0.02 0.02 0.02 0.05 0.05 0.05 0.05 0.05 0.05 0.05 0.05 0.05 0.05 0.05 0.05\n",
      " 0.05 0.05 0.05 0.05 0.05 0.05 0.05 0.05 0.05 0.05 0.05 0.05 0.1 0.1 0.1\n",
      " 0.1 0.1 0.1 0.1 0.1 0.1 0.1 0.1 0.1 0.1 0.1 0.1 0.1 0.1 0.1 0.1 0.1 0.1\n",
      " 0.1 0.1 0.1],\n",
      "             mask = [False False False False False False False False False False False False\n",
      " False False False False False False False False False False False False\n",
      " False False False False False False False False False False False False\n",
      " False False False False False False False False False False False False\n",
      " False False False False False False False False False False False False\n",
      " False False False False False False False False False False False False\n",
      " False False False False False False False False False False False False\n",
      " False False False False False False False False False False False False],\n",
      "       fill_value = ?)\n",
      ", 'split1_train_score': array([ 0.02617448,  0.02617448,  0.02617448,  0.05131532,  0.05131532,\n",
      "        0.05131532,  0.09843902,  0.09843902,  0.09843902,  0.18218607,\n",
      "        0.18218607,  0.18218607,  0.21905541,  0.21905541,  0.21905541,\n",
      "        0.25272354,  0.25272354,  0.25272354,  0.29768707,  0.29768707,\n",
      "        0.29768707,  0.3603269 ,  0.3603269 ,  0.3603269 ,  0.02618264,\n",
      "        0.02618264,  0.02618264,  0.05133692,  0.05133692,  0.05133692,\n",
      "        0.09847228,  0.09847228,  0.09847228,  0.18226113,  0.18226113,\n",
      "        0.18226113,  0.21917106,  0.21917106,  0.21917106,  0.25282263,\n",
      "        0.25282263,  0.25282263,  0.29782163,  0.29782163,  0.29782163,\n",
      "        0.36046505,  0.36046505,  0.36046505,  0.02618125,  0.02618125,\n",
      "        0.02618125,  0.05134399,  0.05134399,  0.05134399,  0.09847723,\n",
      "        0.09847723,  0.09847723,  0.18227613,  0.18227613,  0.18227613,\n",
      "        0.21920033,  0.21920033,  0.21920033,  0.25285003,  0.25285003,\n",
      "        0.25285003,  0.29784564,  0.29784564,  0.29784564,  0.36051285,\n",
      "        0.36051285,  0.36051285,  0.02618147,  0.02618147,  0.02618147,\n",
      "        0.05134953,  0.05134953,  0.05134953,  0.09847869,  0.09847869,\n",
      "        0.09847869,  0.18227052,  0.18227052,  0.18227052,  0.21919864,\n",
      "        0.21919864,  0.21919864,  0.25285344,  0.25285344,  0.25285344,\n",
      "        0.29784796,  0.29784796,  0.29784796,  0.36053959,  0.36053959,\n",
      "        0.36053959]), 'split0_test_score': array([-0.09472385, -0.09472385, -0.09472385, -0.09869389, -0.09869389,\n",
      "       -0.09869389, -0.10557661, -0.10557661, -0.10557661, -0.13319861,\n",
      "       -0.13319861, -0.13319861, -0.14440352, -0.14440352, -0.14440352,\n",
      "       -0.15734568, -0.15734568, -0.15734568, -0.17738137, -0.17738137,\n",
      "       -0.17738137, -0.19978008, -0.19978008, -0.19978008, -0.09471549,\n",
      "       -0.09471549, -0.09471549, -0.0987773 , -0.0987773 , -0.0987773 ,\n",
      "       -0.10567065, -0.10567065, -0.10567065, -0.13335759, -0.13335759,\n",
      "       -0.13335759, -0.14468591, -0.14468591, -0.14468591, -0.15763718,\n",
      "       -0.15763718, -0.15763718, -0.17728167, -0.17728167, -0.17728167,\n",
      "       -0.19957331, -0.19957331, -0.19957331, -0.09469576, -0.09469576,\n",
      "       -0.09469576, -0.09880654, -0.09880654, -0.09880654, -0.1057482 ,\n",
      "       -0.1057482 , -0.1057482 , -0.13351811, -0.13351811, -0.13351811,\n",
      "       -0.14497092, -0.14497092, -0.14497092, -0.15786161, -0.15786161,\n",
      "       -0.15786161, -0.17874124, -0.17874124, -0.17874124, -0.20157044,\n",
      "       -0.20157044, -0.20157044, -0.0946932 , -0.0946932 , -0.0946932 ,\n",
      "       -0.09884782, -0.09884782, -0.09884782, -0.10577431, -0.10577431,\n",
      "       -0.10577431, -0.13353742, -0.13353742, -0.13353742, -0.14495627,\n",
      "       -0.14495627, -0.14495627, -0.15780315, -0.15780315, -0.15780315,\n",
      "       -0.17834061, -0.17834061, -0.17834061, -0.20093658, -0.20093658,\n",
      "       -0.20093658]), 'mean_test_score': array([-0.51445473, -0.51445473, -0.51445473, -0.5076755 , -0.5076755 ,\n",
      "       -0.5076755 , -0.4967846 , -0.4967846 , -0.4967846 , -0.48392927,\n",
      "       -0.48392927, -0.48392927, -0.47748776, -0.47748776, -0.47748776,\n",
      "       -0.47521097, -0.47521097, -0.47521097, -0.47279726, -0.47279726,\n",
      "       -0.47279726, -0.47459383, -0.47459383, -0.47459383, -0.51453472,\n",
      "       -0.51453472, -0.51453472, -0.50779067, -0.50779067, -0.50779067,\n",
      "       -0.49674901, -0.49674901, -0.49674901, -0.48370999, -0.48370999,\n",
      "       -0.48370999, -0.47724252, -0.47724252, -0.47724252, -0.47488536,\n",
      "       -0.47488536, -0.47488536, -0.47153645, -0.47153645, -0.47153645,\n",
      "       -0.47357497, -0.47357497, -0.47357497, -0.51459437, -0.51459437,\n",
      "       -0.51459437, -0.50791628, -0.50791628, -0.50791628, -0.49663953,\n",
      "       -0.49663953, -0.49663953, -0.48376779, -0.48376779, -0.48376779,\n",
      "       -0.47715852, -0.47715852, -0.47715852, -0.47482062, -0.47482062,\n",
      "       -0.47482062, -0.47139427, -0.47139427, -0.47139427, -0.47374978,\n",
      "       -0.47374978, -0.47374978, -0.51460618, -0.51460618, -0.51460618,\n",
      "       -0.50794199, -0.50794199, -0.50794199, -0.4967685 , -0.4967685 ,\n",
      "       -0.4967685 , -0.48377605, -0.48377605, -0.48377605, -0.47702342,\n",
      "       -0.47702342, -0.47702342, -0.47462243, -0.47462243, -0.47462243,\n",
      "       -0.47107838, -0.47107838, -0.47107838, -0.47379912, -0.47379912,\n",
      "       -0.47379912]), 'split2_train_score': array([ 0.02359526,  0.02359526,  0.02359526,  0.04653186,  0.04653186,\n",
      "        0.04653186,  0.08950013,  0.08950013,  0.08950013,  0.16471286,\n",
      "        0.16471286,  0.16471286,  0.19821721,  0.19821721,  0.19821721,\n",
      "        0.22938474,  0.22938474,  0.22938474,  0.27195493,  0.27195493,\n",
      "        0.27195493,  0.33409486,  0.33409486,  0.33409486,  0.0236006 ,\n",
      "        0.0236006 ,  0.0236006 ,  0.04654412,  0.04654412,  0.04654412,\n",
      "        0.08950441,  0.08950441,  0.08950441,  0.16470432,  0.16470432,\n",
      "        0.16470432,  0.19822742,  0.19822742,  0.19822742,  0.22939211,\n",
      "        0.22939211,  0.22939211,  0.2719711 ,  0.2719711 ,  0.2719711 ,\n",
      "        0.33414297,  0.33414297,  0.33414297,  0.02360139,  0.02360139,\n",
      "        0.02360139,  0.04655053,  0.04655053,  0.04655053,  0.089523  ,\n",
      "        0.089523  ,  0.089523  ,  0.16472765,  0.16472765,  0.16472765,\n",
      "        0.19826262,  0.19826262,  0.19826262,  0.22943555,  0.22943555,\n",
      "        0.22943555,  0.27201455,  0.27201455,  0.27201455,  0.33419692,\n",
      "        0.33419692,  0.33419692,  0.02360141,  0.02360141,  0.02360141,\n",
      "        0.04655242,  0.04655242,  0.04655242,  0.08952743,  0.08952743,\n",
      "        0.08952743,  0.1647245 ,  0.1647245 ,  0.1647245 ,  0.19827332,\n",
      "        0.19827332,  0.19827332,  0.22946246,  0.22946246,  0.22946246,\n",
      "        0.2720405 ,  0.2720405 ,  0.2720405 ,  0.33421901,  0.33421901,\n",
      "        0.33421901]), 'param_num_leaves': masked_array(data = [128 1024 4096 128 1024 4096 128 1024 4096 128 1024 4096 128 1024 4096 128\n",
      " 1024 4096 128 1024 4096 128 1024 4096 128 1024 4096 128 1024 4096 128 1024\n",
      " 4096 128 1024 4096 128 1024 4096 128 1024 4096 128 1024 4096 128 1024 4096\n",
      " 128 1024 4096 128 1024 4096 128 1024 4096 128 1024 4096 128 1024 4096 128\n",
      " 1024 4096 128 1024 4096 128 1024 4096 128 1024 4096 128 1024 4096 128 1024\n",
      " 4096 128 1024 4096 128 1024 4096 128 1024 4096 128 1024 4096 128 1024 4096],\n",
      "             mask = [False False False False False False False False False False False False\n",
      " False False False False False False False False False False False False\n",
      " False False False False False False False False False False False False\n",
      " False False False False False False False False False False False False\n",
      " False False False False False False False False False False False False\n",
      " False False False False False False False False False False False False\n",
      " False False False False False False False False False False False False\n",
      " False False False False False False False False False False False False],\n",
      "       fill_value = ?)\n",
      ", 'split0_train_score': array([ 0.02578123,  0.02578123,  0.02578123,  0.05086747,  0.05086747,\n",
      "        0.05086747,  0.09846241,  0.09846241,  0.09846241,  0.18411994,\n",
      "        0.18411994,  0.18411994,  0.22264607,  0.22264607,  0.22264607,\n",
      "        0.25830566,  0.25830566,  0.25830566,  0.30679443,  0.30679443,\n",
      "        0.30679443,  0.3761235 ,  0.3761235 ,  0.3761235 ,  0.0257822 ,\n",
      "        0.0257822 ,  0.0257822 ,  0.05088132,  0.05088132,  0.05088132,\n",
      "        0.09847867,  0.09847867,  0.09847867,  0.1841295 ,  0.1841295 ,\n",
      "        0.1841295 ,  0.22265696,  0.22265696,  0.22265696,  0.25833062,\n",
      "        0.25833062,  0.25833062,  0.30682592,  0.30682592,  0.30682592,\n",
      "        0.37619764,  0.37619764,  0.37619764,  0.02578315,  0.02578315,\n",
      "        0.02578315,  0.05088531,  0.05088531,  0.05088531,  0.09847879,\n",
      "        0.09847879,  0.09847879,  0.18413201,  0.18413201,  0.18413201,\n",
      "        0.22264932,  0.22264932,  0.22264932,  0.25831726,  0.25831726,\n",
      "        0.25831726,  0.30680493,  0.30680493,  0.30680493,  0.3761893 ,\n",
      "        0.3761893 ,  0.3761893 ,  0.02578508,  0.02578508,  0.02578508,\n",
      "        0.0508878 ,  0.0508878 ,  0.0508878 ,  0.09848658,  0.09848658,\n",
      "        0.09848658,  0.18412459,  0.18412459,  0.18412459,  0.22264142,\n",
      "        0.22264142,  0.22264142,  0.258311  ,  0.258311  ,  0.258311  ,\n",
      "        0.30679035,  0.30679035,  0.30679035,  0.37615446,  0.37615446,\n",
      "        0.37615446]), 'params': ({'n_estimators': 100, 'num_leaves': 128, 'learning_rate': 0.01}, {'n_estimators': 100, 'num_leaves': 1024, 'learning_rate': 0.01}, {'n_estimators': 100, 'num_leaves': 4096, 'learning_rate': 0.01}, {'n_estimators': 200, 'num_leaves': 128, 'learning_rate': 0.01}, {'n_estimators': 200, 'num_leaves': 1024, 'learning_rate': 0.01}, {'n_estimators': 200, 'num_leaves': 4096, 'learning_rate': 0.01}, {'n_estimators': 400, 'num_leaves': 128, 'learning_rate': 0.01}, {'n_estimators': 400, 'num_leaves': 1024, 'learning_rate': 0.01}, {'n_estimators': 400, 'num_leaves': 4096, 'learning_rate': 0.01}, {'n_estimators': 800, 'num_leaves': 128, 'learning_rate': 0.01}, {'n_estimators': 800, 'num_leaves': 1024, 'learning_rate': 0.01}, {'n_estimators': 800, 'num_leaves': 4096, 'learning_rate': 0.01}, {'n_estimators': 1000, 'num_leaves': 128, 'learning_rate': 0.01}, {'n_estimators': 1000, 'num_leaves': 1024, 'learning_rate': 0.01}, {'n_estimators': 1000, 'num_leaves': 4096, 'learning_rate': 0.01}, {'n_estimators': 1200, 'num_leaves': 128, 'learning_rate': 0.01}, {'n_estimators': 1200, 'num_leaves': 1024, 'learning_rate': 0.01}, {'n_estimators': 1200, 'num_leaves': 4096, 'learning_rate': 0.01}, {'n_estimators': 1500, 'num_leaves': 128, 'learning_rate': 0.01}, {'n_estimators': 1500, 'num_leaves': 1024, 'learning_rate': 0.01}, {'n_estimators': 1500, 'num_leaves': 4096, 'learning_rate': 0.01}, {'n_estimators': 2000, 'num_leaves': 128, 'learning_rate': 0.01}, {'n_estimators': 2000, 'num_leaves': 1024, 'learning_rate': 0.01}, {'n_estimators': 2000, 'num_leaves': 4096, 'learning_rate': 0.01}, {'n_estimators': 100, 'num_leaves': 128, 'learning_rate': 0.02}, {'n_estimators': 100, 'num_leaves': 1024, 'learning_rate': 0.02}, {'n_estimators': 100, 'num_leaves': 4096, 'learning_rate': 0.02}, {'n_estimators': 200, 'num_leaves': 128, 'learning_rate': 0.02}, {'n_estimators': 200, 'num_leaves': 1024, 'learning_rate': 0.02}, {'n_estimators': 200, 'num_leaves': 4096, 'learning_rate': 0.02}, {'n_estimators': 400, 'num_leaves': 128, 'learning_rate': 0.02}, {'n_estimators': 400, 'num_leaves': 1024, 'learning_rate': 0.02}, {'n_estimators': 400, 'num_leaves': 4096, 'learning_rate': 0.02}, {'n_estimators': 800, 'num_leaves': 128, 'learning_rate': 0.02}, {'n_estimators': 800, 'num_leaves': 1024, 'learning_rate': 0.02}, {'n_estimators': 800, 'num_leaves': 4096, 'learning_rate': 0.02}, {'n_estimators': 1000, 'num_leaves': 128, 'learning_rate': 0.02}, {'n_estimators': 1000, 'num_leaves': 1024, 'learning_rate': 0.02}, {'n_estimators': 1000, 'num_leaves': 4096, 'learning_rate': 0.02}, {'n_estimators': 1200, 'num_leaves': 128, 'learning_rate': 0.02}, {'n_estimators': 1200, 'num_leaves': 1024, 'learning_rate': 0.02}, {'n_estimators': 1200, 'num_leaves': 4096, 'learning_rate': 0.02}, {'n_estimators': 1500, 'num_leaves': 128, 'learning_rate': 0.02}, {'n_estimators': 1500, 'num_leaves': 1024, 'learning_rate': 0.02}, {'n_estimators': 1500, 'num_leaves': 4096, 'learning_rate': 0.02}, {'n_estimators': 2000, 'num_leaves': 128, 'learning_rate': 0.02}, {'n_estimators': 2000, 'num_leaves': 1024, 'learning_rate': 0.02}, {'n_estimators': 2000, 'num_leaves': 4096, 'learning_rate': 0.02}, {'n_estimators': 100, 'num_leaves': 128, 'learning_rate': 0.05}, {'n_estimators': 100, 'num_leaves': 1024, 'learning_rate': 0.05}, {'n_estimators': 100, 'num_leaves': 4096, 'learning_rate': 0.05}, {'n_estimators': 200, 'num_leaves': 128, 'learning_rate': 0.05}, {'n_estimators': 200, 'num_leaves': 1024, 'learning_rate': 0.05}, {'n_estimators': 200, 'num_leaves': 4096, 'learning_rate': 0.05}, {'n_estimators': 400, 'num_leaves': 128, 'learning_rate': 0.05}, {'n_estimators': 400, 'num_leaves': 1024, 'learning_rate': 0.05}, {'n_estimators': 400, 'num_leaves': 4096, 'learning_rate': 0.05}, {'n_estimators': 800, 'num_leaves': 128, 'learning_rate': 0.05}, {'n_estimators': 800, 'num_leaves': 1024, 'learning_rate': 0.05}, {'n_estimators': 800, 'num_leaves': 4096, 'learning_rate': 0.05}, {'n_estimators': 1000, 'num_leaves': 128, 'learning_rate': 0.05}, {'n_estimators': 1000, 'num_leaves': 1024, 'learning_rate': 0.05}, {'n_estimators': 1000, 'num_leaves': 4096, 'learning_rate': 0.05}, {'n_estimators': 1200, 'num_leaves': 128, 'learning_rate': 0.05}, {'n_estimators': 1200, 'num_leaves': 1024, 'learning_rate': 0.05}, {'n_estimators': 1200, 'num_leaves': 4096, 'learning_rate': 0.05}, {'n_estimators': 1500, 'num_leaves': 128, 'learning_rate': 0.05}, {'n_estimators': 1500, 'num_leaves': 1024, 'learning_rate': 0.05}, {'n_estimators': 1500, 'num_leaves': 4096, 'learning_rate': 0.05}, {'n_estimators': 2000, 'num_leaves': 128, 'learning_rate': 0.05}, {'n_estimators': 2000, 'num_leaves': 1024, 'learning_rate': 0.05}, {'n_estimators': 2000, 'num_leaves': 4096, 'learning_rate': 0.05}, {'n_estimators': 100, 'num_leaves': 128, 'learning_rate': 0.1}, {'n_estimators': 100, 'num_leaves': 1024, 'learning_rate': 0.1}, {'n_estimators': 100, 'num_leaves': 4096, 'learning_rate': 0.1}, {'n_estimators': 200, 'num_leaves': 128, 'learning_rate': 0.1}, {'n_estimators': 200, 'num_leaves': 1024, 'learning_rate': 0.1}, {'n_estimators': 200, 'num_leaves': 4096, 'learning_rate': 0.1}, {'n_estimators': 400, 'num_leaves': 128, 'learning_rate': 0.1}, {'n_estimators': 400, 'num_leaves': 1024, 'learning_rate': 0.1}, {'n_estimators': 400, 'num_leaves': 4096, 'learning_rate': 0.1}, {'n_estimators': 800, 'num_leaves': 128, 'learning_rate': 0.1}, {'n_estimators': 800, 'num_leaves': 1024, 'learning_rate': 0.1}, {'n_estimators': 800, 'num_leaves': 4096, 'learning_rate': 0.1}, {'n_estimators': 1000, 'num_leaves': 128, 'learning_rate': 0.1}, {'n_estimators': 1000, 'num_leaves': 1024, 'learning_rate': 0.1}, {'n_estimators': 1000, 'num_leaves': 4096, 'learning_rate': 0.1}, {'n_estimators': 1200, 'num_leaves': 128, 'learning_rate': 0.1}, {'n_estimators': 1200, 'num_leaves': 1024, 'learning_rate': 0.1}, {'n_estimators': 1200, 'num_leaves': 4096, 'learning_rate': 0.1}, {'n_estimators': 1500, 'num_leaves': 128, 'learning_rate': 0.1}, {'n_estimators': 1500, 'num_leaves': 1024, 'learning_rate': 0.1}, {'n_estimators': 1500, 'num_leaves': 4096, 'learning_rate': 0.1}, {'n_estimators': 2000, 'num_leaves': 128, 'learning_rate': 0.1}, {'n_estimators': 2000, 'num_leaves': 1024, 'learning_rate': 0.1}, {'n_estimators': 2000, 'num_leaves': 4096, 'learning_rate': 0.1}), 'std_fit_time': array([ 0.00377374,  0.04516082,  0.0087895 ,  0.02164088,  0.02082708,\n",
      "        0.03500941,  0.06439281,  0.17806912,  0.0372144 ,  0.13667614,\n",
      "        0.05883691,  0.15990782,  0.05182779,  0.07963236,  0.15581408,\n",
      "        0.08429798,  0.05223097,  0.13686022,  0.12195683,  0.15870935,\n",
      "        0.14108087,  0.41453827,  0.13469244,  0.37685192,  0.00766905,\n",
      "        0.00702621,  0.01409482,  0.01184062,  0.02076268,  0.10666395,\n",
      "        0.18310812,  0.00421894,  0.05093362,  0.07373835,  0.12366159,\n",
      "        0.13766869,  0.06129048,  0.07142801,  0.06039016,  0.0801348 ,\n",
      "        0.08932742,  0.09920247,  0.0612895 ,  0.13125963,  0.18492393,\n",
      "        0.15876527,  0.17074243,  0.42084995,  0.00516962,  0.01335306,\n",
      "        0.00520131,  0.01201556,  0.01317371,  0.03464999,  0.02996773,\n",
      "        0.03714675,  0.12743783,  0.11488341,  0.04077298,  0.06426799,\n",
      "        0.10789661,  0.01486927,  0.20475388,  0.12759906,  0.07418977,\n",
      "        0.09725705,  0.15813648,  0.12765671,  0.22900402,  0.3379588 ,\n",
      "        0.12205366,  0.4480021 ,  0.00333334,  0.01576689,  0.01021775,\n",
      "        0.01848618,  0.04797993,  0.04509758,  0.05449564,  0.06948472,\n",
      "        0.07825358,  0.14356517,  0.02913939,  0.19673306,  0.03342075,\n",
      "        0.08098703,  0.25697597,  0.08287451,  0.119025  ,  0.07995988,\n",
      "        0.21311889,  0.12629956,  0.07892887,  0.24976666,  0.56681515,\n",
      "        0.46847579]), 'std_score_time': array([  2.78031844e-04,   2.36494099e-03,   2.20955446e-04,\n",
      "         1.67207233e-04,   5.22813921e-04,   7.79337331e-04,\n",
      "         3.94886861e-04,   4.30076234e-04,   5.90896612e-05,\n",
      "         3.38987783e-03,   6.63735829e-04,   1.25902356e-03,\n",
      "         8.68249812e-04,   6.60471287e-04,   9.06918766e-04,\n",
      "         2.40463415e-04,   5.87838433e-04,   3.74492795e-04,\n",
      "         5.57815286e-04,   8.59772842e-04,   5.96586693e-04,\n",
      "         2.39104250e-03,   1.15801407e-03,   3.12228080e-03,\n",
      "         6.21179688e-04,   5.99104106e-04,   3.78339177e-04,\n",
      "         1.49459146e-04,   6.69672854e-05,   1.41450934e-03,\n",
      "         1.10727139e-03,   3.37834054e-03,   4.97693376e-04,\n",
      "         4.42691422e-04,   1.11854537e-03,   3.56545842e-04,\n",
      "         3.67321615e-04,   4.69109381e-05,   1.18368490e-03,\n",
      "         2.95909699e-04,   4.18775611e-04,   5.86175220e-04,\n",
      "         5.90543265e-04,   3.61928792e-04,   4.77496698e-04,\n",
      "         3.54626370e-04,   1.36857471e-03,   2.58274335e-03,\n",
      "         1.68974812e-04,   6.54955244e-04,   9.65954102e-04,\n",
      "         2.03055878e-05,   5.44809495e-05,   8.36193474e-04,\n",
      "         9.43830469e-05,   1.97015736e-04,   1.53938813e-03,\n",
      "         5.92933292e-04,   6.41785862e-04,   3.34189262e-04,\n",
      "         1.11183241e-04,   3.35681299e-04,   5.56586776e-04,\n",
      "         2.97158215e-04,   2.52665432e-04,   7.98004741e-04,\n",
      "         2.48163418e-04,   2.94482368e-04,   2.26730787e-03,\n",
      "         9.60048836e-04,   3.16540366e-03,   1.89427558e-04,\n",
      "         6.71043716e-04,   4.14740203e-04,   2.68332270e-04,\n",
      "         1.04169706e-03,   1.12391153e-03,   1.58376349e-04,\n",
      "         2.27491502e-04,   3.01299859e-04,   7.03226591e-05,\n",
      "         4.98857072e-04,   1.12825652e-03,   1.61162265e-03,\n",
      "         1.02765999e-03,   5.27439139e-04,   7.02093730e-04,\n",
      "         4.07390359e-04,   9.99588443e-04,   4.22587424e-04,\n",
      "         6.76695221e-04,   6.95460198e-04,   4.24135328e-04,\n",
      "         7.21639709e-04,   4.49744377e-03,   4.06301351e-03]), 'split2_test_score': array([-1.15319451, -1.15319451, -1.15319451, -1.12383498, -1.12383498,\n",
      "       -1.12383498, -1.07852566, -1.07852566, -1.07852566, -1.00657882,\n",
      "       -1.00657882, -1.00657882, -0.97540345, -0.97540345, -0.97540345,\n",
      "       -0.95374364, -0.95374364, -0.95374364, -0.93005448, -0.93005448,\n",
      "       -0.93005448, -0.92144228, -0.92144228, -0.92144228, -1.15322033,\n",
      "       -1.15322033, -1.15322033, -1.12391497, -1.12391497, -1.12391497,\n",
      "       -1.07824314, -1.07824314, -1.07824314, -1.00576037, -1.00576037,\n",
      "       -1.00576037, -0.97418094, -0.97418094, -0.97418094, -0.95184964,\n",
      "       -0.95184964, -0.95184964, -0.92724554, -0.92724554, -0.92724554,\n",
      "       -0.91895731, -0.91895731, -0.91895731, -1.15322162, -1.15322162,\n",
      "       -1.15322162, -1.12406699, -1.12406699, -1.12406699, -1.07831421,\n",
      "       -1.07831421, -1.07831421, -1.00642266, -1.00642266, -1.00642266,\n",
      "       -0.97423182, -0.97423182, -0.97423182, -0.95169851, -0.95169851,\n",
      "       -0.95169851, -0.92649823, -0.92649823, -0.92649823, -0.91887476,\n",
      "       -0.91887476, -0.91887476, -1.1532055 , -1.1532055 , -1.1532055 ,\n",
      "       -1.12407033, -1.12407033, -1.12407033, -1.07822193, -1.07822193,\n",
      "       -1.07822193, -1.00602064, -1.00602064, -1.00602064, -0.97363449,\n",
      "       -0.97363449, -0.97363449, -0.95111571, -0.95111571, -0.95111571,\n",
      "       -0.92576254, -0.92576254, -0.92576254, -0.91900904, -0.91900904,\n",
      "       -0.91900904]), 'param_n_estimators': masked_array(data = [100 100 100 200 200 200 400 400 400 800 800 800 1000 1000 1000 1200 1200\n",
      " 1200 1500 1500 1500 2000 2000 2000 100 100 100 200 200 200 400 400 400 800\n",
      " 800 800 1000 1000 1000 1200 1200 1200 1500 1500 1500 2000 2000 2000 100\n",
      " 100 100 200 200 200 400 400 400 800 800 800 1000 1000 1000 1200 1200 1200\n",
      " 1500 1500 1500 2000 2000 2000 100 100 100 200 200 200 400 400 400 800 800\n",
      " 800 1000 1000 1000 1200 1200 1200 1500 1500 1500 2000 2000 2000],\n",
      "             mask = [False False False False False False False False False False False False\n",
      " False False False False False False False False False False False False\n",
      " False False False False False False False False False False False False\n",
      " False False False False False False False False False False False False\n",
      " False False False False False False False False False False False False\n",
      " False False False False False False False False False False False False\n",
      " False False False False False False False False False False False False\n",
      " False False False False False False False False False False False False],\n",
      "       fill_value = ?)\n",
      ", 'mean_train_score': array([ 0.02518365,  0.02518365,  0.02518365,  0.04957155,  0.04957155,\n",
      "        0.04957155,  0.09546719,  0.09546719,  0.09546719,  0.17700629,\n",
      "        0.17700629,  0.17700629,  0.21330623,  0.21330623,  0.21330623,\n",
      "        0.24680465,  0.24680465,  0.24680465,  0.29214548,  0.29214548,\n",
      "        0.29214548,  0.35684842,  0.35684842,  0.35684842,  0.02518848,\n",
      "        0.02518848,  0.02518848,  0.04958745,  0.04958745,  0.04958745,\n",
      "        0.09548512,  0.09548512,  0.09548512,  0.17703165,  0.17703165,\n",
      "        0.17703165,  0.21335182,  0.21335182,  0.21335182,  0.24684845,\n",
      "        0.24684845,  0.24684845,  0.29220622,  0.29220622,  0.29220622,\n",
      "        0.35693522,  0.35693522,  0.35693522,  0.0251886 ,  0.0251886 ,\n",
      "        0.0251886 ,  0.04959328,  0.04959328,  0.04959328,  0.09549301,\n",
      "        0.09549301,  0.09549301,  0.17704526,  0.17704526,  0.17704526,\n",
      "        0.21337076,  0.21337076,  0.21337076,  0.24686761,  0.24686761,\n",
      "        0.24686761,  0.29222171,  0.29222171,  0.29222171,  0.35696636,\n",
      "        0.35696636,  0.35696636,  0.02518932,  0.02518932,  0.02518932,\n",
      "        0.04959658,  0.04959658,  0.04959658,  0.09549756,  0.09549756,\n",
      "        0.09549756,  0.17703987,  0.17703987,  0.17703987,  0.21337113,\n",
      "        0.21337113,  0.21337113,  0.24687563,  0.24687563,  0.24687563,\n",
      "        0.29222627,  0.29222627,  0.29222627,  0.35697102,  0.35697102,\n",
      "        0.35697102]), 'mean_fit_time': array([  0.36087839,   0.39515599,   0.52833597,   0.71100871,\n",
      "         0.75293581,   1.13591472,   1.49972701,   1.63296064,\n",
      "         2.09002995,   3.35180394,   3.01472131,   4.31819598,\n",
      "         3.76090932,   3.62274369,   5.41206368,   4.22333312,\n",
      "         4.37728794,   6.23162198,   5.34526952,   5.42400058,\n",
      "         7.76494368,   7.30202572,   7.60455736,  12.3915503 ,\n",
      "         0.38807432,   0.39815307,   0.55754304,   0.78954156,\n",
      "         0.79429531,   1.33628758,   1.85990071,   1.69251402,\n",
      "         2.25461769,   3.14496668,   3.1748294 ,   4.41368   ,\n",
      "         3.60306803,   3.828818  ,   5.33916767,   4.37291853,\n",
      "         4.46642566,   6.35521166,   5.41352566,   5.60239601,\n",
      "         8.06468868,   7.47500539,   7.55759374,  11.4509213 ,\n",
      "         0.35180227,   0.36882901,   0.51593566,   0.70164196,\n",
      "         0.715216  ,   1.02378241,   1.47037768,   1.45129267,\n",
      "         2.15300496,   2.85706663,   3.05738401,   4.1989797 ,\n",
      "         3.74371099,   3.68997002,   5.51947538,   4.32990766,\n",
      "         4.37671566,   6.25419235,   5.62403941,   5.61880557,\n",
      "         8.22045898,   7.5622406 ,   7.82955893,  10.93266447,\n",
      "         0.39759835,   0.37882296,   0.5547924 ,   0.76108209,\n",
      "         0.79555027,   1.09460227,   1.41794237,   1.4735895 ,\n",
      "         2.1384081 ,   2.97106894,   3.13571771,   4.4185067 ,\n",
      "         3.76055503,   3.75631618,   5.44461711,   4.50029834,\n",
      "         4.67202338,   6.83043933,   5.82248497,   5.84953403,\n",
      "         8.11280735,   7.28084628,   7.87206078,  11.62029195]), 'split1_test_score': array([-0.29773944, -0.29773944, -0.29773944, -0.30273251, -0.30273251,\n",
      "       -0.30273251, -0.30838928, -0.30838928, -0.30838928, -0.31392694,\n",
      "       -0.31392694, -0.31392694, -0.31447644, -0.31447644, -0.31447644,\n",
      "       -0.31628056, -0.31628056, -0.31628056, -0.31257022, -0.31257022,\n",
      "       -0.31257022, -0.30406083, -0.30406083, -0.30406083, -0.29796243,\n",
      "       -0.29796243, -0.29796243, -0.30291479, -0.30291479, -0.30291479,\n",
      "       -0.30847027, -0.30847027, -0.30847027, -0.31392649, -0.31392649,\n",
      "       -0.31392649, -0.31467798, -0.31467798, -0.31467798, -0.31690285,\n",
      "       -0.31690285, -0.31690285, -0.3116901 , -0.3116901 , -0.3116901 ,\n",
      "       -0.30369158, -0.30369158, -0.30369158, -0.29816025, -0.29816025,\n",
      "       -0.29816025, -0.30311088, -0.30311088, -0.30311088, -0.30799221,\n",
      "       -0.30799221, -0.30799221, -0.31327654, -0.31327654, -0.31327654,\n",
      "       -0.31408804, -0.31408804, -0.31408804, -0.31663375, -0.31663375,\n",
      "       -0.31663375, -0.31054255, -0.31054255, -0.31054255, -0.30229147,\n",
      "       -0.30229147, -0.30229147, -0.29821445, -0.29821445, -0.29821445,\n",
      "       -0.30314332, -0.30314332, -0.30314332, -0.30844584, -0.30844584,\n",
      "       -0.30844584, -0.31368397, -0.31368397, -0.31368397, -0.31429407,\n",
      "       -0.31429407, -0.31429407, -0.31667969, -0.31667969, -0.31667969,\n",
      "       -0.31073164, -0.31073164, -0.31073164, -0.30294278, -0.30294278,\n",
      "       -0.30294278])}\n",
      "----------------------------cv------------------------------\n",
      "None\n",
      "('Best parameters found by grid search are:', {'n_estimators': 1500, 'num_leaves': 128, 'learning_rate': 0.1})\n"
     ]
    }
   ],
   "source": [
    "import lightgbm as lgb\n",
    "from sklearn.metrics import mean_squared_error\n",
    "from sklearn.model_selection import GridSearchCV\n",
    "\n",
    "estimator = lgb.LGBMRegressor(colsample_bytree=0.8, subsample=0.9, subsample_freq=5)\n",
    "\n",
    "param_grid = {\n",
    "    'learning_rate': [0.01, 0.02, 0.05, 0.1],\n",
    "    'n_estimators': [100, 200, 400, 800, 1000, 1200, 1500, 2000],\n",
    "    'num_leaves':[128, 1024, 4096]\n",
    "}\n",
    "\n",
    "#fit_params = {'sample_weight':, 'early_stopping_rounds':5, 'categorical_feature':[0,1,2,3,4,5]}\n",
    "#fit_params = {'early_stopping_rounds':5, 'categorical_feature':[0,1,2,3,4,5]}\n",
    "fit_params = {'categorical_feature':[0,1,2,3,4,5]}\n",
    "\n",
    "gbm = GridSearchCV(estimator, param_grid, fit_params=fit_params)\n",
    "\n",
    "gbm.fit(X_lgb, y_lgb)\n",
    "\n",
    "print \"----------------------cv results--------------------------\"\n",
    "print gbm.cv_results_\n",
    "\n",
    "print \"----------------------------cv------------------------------\"\n",
    "print gbm.cv\n",
    "\n",
    "print('Best parameters found by grid search are:', gbm.best_params_)"
   ]
  },
  {
   "cell_type": "markdown",
   "metadata": {},
   "source": [
    "### 选择loss function和调整权重"
   ]
  },
  {
   "cell_type": "code",
   "execution_count": 26,
   "metadata": {
    "collapsed": false
   },
   "outputs": [],
   "source": [
    "weights = 10000000.0/train_target.values.reshape(train_target.values.shape[0],)"
   ]
  },
  {
   "cell_type": "code",
   "execution_count": null,
   "metadata": {
    "collapsed": false
   },
   "outputs": [],
   "source": [
    "import lightgbm as lgb\n",
    "from sklearn.metrics import mean_squared_error\n",
    "from sklearn.model_selection import GridSearchCV\n",
    "\n",
    "estimator = lgb.LGBMRegressor(colsample_bytree=0.8, subsample=0.9, subsample_freq=5, objective='regression_l1')\n",
    "\n",
    "param_grid = {\n",
    "    'learning_rate': [0.01, 0.02, 0.05, 0.1],\n",
    "    'n_estimators': [800, 1000, 1500, 2000, 2500],\n",
    "    'num_leaves':[128, 1024, 4096]\n",
    "}\n",
    "\n",
    "#fit_params = {'sample_weight':, 'early_stopping_rounds':5, 'categorical_feature':[0,1,2,3,4,5]}\n",
    "#fit_params = {'early_stopping_rounds':5, 'categorical_feature':[0,1,2,3,4,5]}\n",
    "fit_params = {'sample_weight': weights, 'categorical_feature':[0,1,2,3,4,5]}\n",
    "\n",
    "gbm = GridSearchCV(estimator, param_grid, fit_params=fit_params)\n",
    "\n",
    "gbm.fit(X_lgb, y_lgb)\n",
    "\n",
    "print \"----------------------cv results--------------------------\"\n",
    "print gbm.cv_results_\n",
    "\n",
    "print \"----------------------------cv------------------------------\"\n",
    "print gbm.cv\n",
    "\n",
    "print('Best parameters found by grid search are:', gbm.best_params_)"
   ]
  },
  {
   "cell_type": "code",
   "execution_count": 27,
   "metadata": {
    "collapsed": false
   },
   "outputs": [
    {
     "name": "stdout",
     "output_type": "stream",
     "text": [
      "Start training...\n"
     ]
    }
   ],
   "source": [
    "#随机敲定一组参数跑模型\n",
    "import lightgbm as lgb\n",
    "from sklearn.metrics import mean_squared_error\n",
    "import matplotlib.pyplot as plt\n",
    "%matplotlib inline\n",
    "# create dataset for lightgbm\n",
    "lgb_train = lgb.Dataset(X_lgb, y_lgb)\n",
    "# specify your configurations as a dict\n",
    "params = {\n",
    "    'num_leaves': 128,\n",
    "    'learning_rate':0.01,\n",
    "    'n_estimators':800,\n",
    "    'feature_fraction': 0.9,\n",
    "    'bagging_fraction': 0.8,\n",
    "    'bagging_freq': 5,\n",
    "    'weight': weights,\n",
    "    'application':'regression_l1'\n",
    "}\n",
    "\n",
    "print('Start training...')\n",
    "# train\n",
    "gbm = lgb.train(params,\n",
    "                lgb_train,\n",
    "                num_boost_round=800,\n",
    "                feature_name=['f' + str(i + 1) for i in range(X_lgb.shape[1])],\n",
    "                categorical_feature=[0,1,2,3,4,5])"
   ]
  },
  {
   "cell_type": "code",
   "execution_count": 28,
   "metadata": {
    "collapsed": false
   },
   "outputs": [
    {
     "name": "stdout",
     "output_type": "stream",
     "text": [
      "Plot feature importances...\n"
     ]
    },
    {
     "data": {
      "image/png": "[encoded data removed]",
      "text/plain": [
       "<matplotlib.figure.Figure at 0x111190f90>"
      ]
     },
     "metadata": {},
     "output_type": "display_data"
    }
   ],
   "source": [
    "%matplotlib inline\n",
    "import matplotlib.pyplot as plt\n",
    "print('Plot feature importances...')\n",
    "ax = lgb.plot_importance(gbm, max_num_features=50)\n",
    "plt.show()"
   ]
  },
  {
   "cell_type": "code",
   "execution_count": 38,
   "metadata": {
    "collapsed": false
   },
   "outputs": [
    {
     "data": {
      "text/html": [
       "<div>\n",
       "<style>\n",
       "    .dataframe thead tr:only-child th {\n",
       "        text-align: right;\n",
       "    }\n",
       "\n",
       "    .dataframe thead th {\n",
       "        text-align: left;\n",
       "    }\n",
       "\n",
       "    .dataframe tbody tr th {\n",
       "        vertical-align: top;\n",
       "    }\n",
       "</style>\n",
       "<table border=\"1\" class=\"dataframe\">\n",
       "  <thead>\n",
       "    <tr style=\"text-align: right;\">\n",
       "      <th></th>\n",
       "      <th>predict_date</th>\n",
       "      <th>predict_power_consumption</th>\n",
       "    </tr>\n",
       "  </thead>\n",
       "  <tbody>\n",
       "    <tr>\n",
       "      <th>0</th>\n",
       "      <td>2016-09-01</td>\n",
       "      <td>3894801</td>\n",
       "    </tr>\n",
       "    <tr>\n",
       "      <th>1</th>\n",
       "      <td>2016-09-02</td>\n",
       "      <td>3879117</td>\n",
       "    </tr>\n",
       "    <tr>\n",
       "      <th>2</th>\n",
       "      <td>2016-09-03</td>\n",
       "      <td>3826443</td>\n",
       "    </tr>\n",
       "    <tr>\n",
       "      <th>3</th>\n",
       "      <td>2016-09-04</td>\n",
       "      <td>3727352</td>\n",
       "    </tr>\n",
       "    <tr>\n",
       "      <th>4</th>\n",
       "      <td>2016-09-05</td>\n",
       "      <td>3866033</td>\n",
       "    </tr>\n",
       "  </tbody>\n",
       "</table>\n",
       "</div>"
      ],
      "text/plain": [
       "  predict_date  predict_power_consumption\n",
       "0   2016-09-01                    3894801\n",
       "1   2016-09-02                    3879117\n",
       "2   2016-09-03                    3826443\n",
       "3   2016-09-04                    3727352\n",
       "4   2016-09-05                    3866033"
      ]
     },
     "execution_count": 38,
     "metadata": {},
     "output_type": "execute_result"
    }
   ],
   "source": [
    "commit_df = pd.date_range('2016/9/1', periods=30, freq='D')\n",
    "commit_df = pd.DataFrame(commit_df)\n",
    "commit_df.columns = ['predict_date']\n",
    "y_predict = gbm.predict(test_lgb.values)\n",
    "commit_df['predict_power_consumption'] = pd.DataFrame(y_predict).astype('int')\n",
    "commit_df.head()"
   ]
  },
  {
   "cell_type": "code",
   "execution_count": 39,
   "metadata": {
    "collapsed": true
   },
   "outputs": [],
   "source": [
    "commit_df['predict_date'] = commit_df['predict_date'].astype(str).apply(lambda x: x.replace(\"-\",\"\"))\n",
    "commit_df.to_csv('Tianchi_power_predict_table_20170519_v2.csv',index=False)"
   ]
  }
 ],
 "metadata": {
  "kernelspec": {
   "display_name": "Python 2",
   "language": "python",
   "name": "python2"
  },
  "language_info": {
   "codemirror_mode": {
    "name": "ipython",
    "version": 2
   },
   "file_extension": ".py",
   "mimetype": "text/x-python",
   "name": "python",
   "nbconvert_exporter": "python",
   "pygments_lexer": "ipython2",
   "version": "2.7.11"
  }
 },
 "nbformat": 4,
 "nbformat_minor": 0
}
