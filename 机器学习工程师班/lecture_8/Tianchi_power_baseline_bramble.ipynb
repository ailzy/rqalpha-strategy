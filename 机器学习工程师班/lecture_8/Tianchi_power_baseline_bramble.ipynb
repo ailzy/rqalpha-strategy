{
 "cells": [
  {
   "cell_type": "code",
   "execution_count": 12,
   "metadata": {
    "collapsed": true
   },
   "outputs": [],
   "source": [
    "import pandas as pd\n",
    "import warnings\n",
    "warnings.filterwarnings(\"ignore\")\n",
    "import lightgbm as lgb"
   ]
  },
  {
   "cell_type": "code",
   "execution_count": 13,
   "metadata": {
    "collapsed": true
   },
   "outputs": [],
   "source": [
    "# 直接导入之前保存过的处理好的文件\n",
    "data_df = pd.read_csv(\"./dataset/data_all_20170524.csv\")"
   ]
  },
  {
   "cell_type": "code",
   "execution_count": 14,
   "metadata": {
    "collapsed": true
   },
   "outputs": [],
   "source": [
    "train_data = data_df[data_df.record_date<'2016-09-01']\\\n",
    "[['dow','doy','day','month','year','season','1_m_mean','2_m_mean','1_m_std','2_m_std']]\n",
    "\n",
    "test_data = data_df[data_df.record_date>='2016-09-01']\\\n",
    "[['dow','doy','day','month','year','season','1_m_mean','2_m_mean','1_m_std','2_m_std']]\n",
    "\n",
    "train_target = data_df[data_df.record_date<'2016-09-01'][['power_consumption']]\n",
    "\n",
    "# 添加测试集的target\n",
    "test_target = data_df[data_df.record_date>='2016-09-01'][['power_consumption']]\n",
    "test_target = test_target.reset_index(drop=True)\n"
   ]
  },
  {
   "cell_type": "code",
   "execution_count": 15,
   "metadata": {
    "collapsed": true
   },
   "outputs": [],
   "source": [
    "# 运行valid_sets=lgb_test2出错\n",
    "# 提示：TypeError: Wrong type(ndarray) for label, should be list or numpy array\n",
    "# 看了label不能输入dataframe, 要变为array\n",
    "\n",
    "y_train = train_target.values.reshape(train_target.values.shape[0],)\n",
    "# print y_train.shape\n",
    "y_test = test_target.values.reshape(test_target.values.shape[0],)\n",
    "# print y_test.shape"
   ]
  },
  {
   "cell_type": "markdown",
   "metadata": {},
   "source": [
    "### lgb.Dataset可能导入有问题\n",
    "导致最后预测的结果全是平均值，我重新按照lightGBM的文档把对应的参数修改一下。\n",
    "\n",
    "这里直接通过pandas的dataframe制作数据，下面这句是官网给的例子。\n",
    "\n",
    "    train_data = lgb.Dataset(data, label=label, feature_name=['c1', 'c2', 'c3'], categorical_feature=['c3'])\n"
   ]
  },
  {
   "cell_type": "code",
   "execution_count": 16,
   "metadata": {
    "collapsed": false
   },
   "outputs": [],
   "source": [
    "# 制作lgb.dataset\n",
    "weights = 10000000.0/train_target.values.reshape(train_target.values.shape[0],)\n",
    "\n",
    "lgb_train2 = lgb.Dataset(train_data, label=y_train, weight=weights, feature_name=['dow', 'doy', 'day', 'year', 'month', 'season', '1_m_mean', '2_m_mean', '1_m_std', '2_m_std'], categorical_feature=['dow', 'doy', 'day', 'year', 'month', 'season'])\n",
    "lgb_test2 = lgb.Dataset(test_data, label=y_test, feature_name=['dow', 'doy', 'day', 'year', 'month', 'season', '1_m_mean', '2_m_mean', '1_m_std', '2_m_std'], categorical_feature=['dow', 'doy', 'day', 'year', 'month', 'season'])"
   ]
  },
  {
   "cell_type": "code",
   "execution_count": 17,
   "metadata": {
    "collapsed": false
   },
   "outputs": [
    {
     "name": "stdout",
     "output_type": "stream",
     "text": [
      "Start training...\n"
     ]
    }
   ],
   "source": [
    "# training!\n",
    "params = {\n",
    "    'task': 'train',\n",
    "    'boosting_type': 'gbdt',\n",
    "    'objective': 'regression',\n",
    "    'metric': {'l2', 'auc'},\n",
    "    'num_leaves': 128,\n",
    "    'learning_rate': 0.01,\n",
    "    'feature_fraction': 0.9,\n",
    "    'bagging_fraction': 0.8,\n",
    "    'bagging_freq': 5,\n",
    "    'verbose': 0\n",
    "}\n",
    "\n",
    "print('Start training...')\n",
    "# train\n",
    "gbm = lgb.train(params,\n",
    "                lgb_train2,\n",
    "                num_boost_round=800,\n",
    "#                early_stopping_rounds=5,\n",
    "#                 valid_sets=lgb_test2,\n",
    "                verbose_eval=False)\n"
   ]
  },
  {
   "cell_type": "code",
   "execution_count": 18,
   "metadata": {
    "collapsed": false
   },
   "outputs": [
    {
     "data": {
      "text/html": [
       "<div>\n",
       "<table border=\"1\" class=\"dataframe\">\n",
       "  <thead>\n",
       "    <tr style=\"text-align: right;\">\n",
       "      <th></th>\n",
       "      <th>predict_date</th>\n",
       "      <th>predict_power_consumption</th>\n",
       "    </tr>\n",
       "  </thead>\n",
       "  <tbody>\n",
       "    <tr>\n",
       "      <th>0</th>\n",
       "      <td>2016-09-01</td>\n",
       "      <td>3864870</td>\n",
       "    </tr>\n",
       "    <tr>\n",
       "      <th>1</th>\n",
       "      <td>2016-09-02</td>\n",
       "      <td>3862865</td>\n",
       "    </tr>\n",
       "    <tr>\n",
       "      <th>2</th>\n",
       "      <td>2016-09-03</td>\n",
       "      <td>3855547</td>\n",
       "    </tr>\n",
       "    <tr>\n",
       "      <th>3</th>\n",
       "      <td>2016-09-04</td>\n",
       "      <td>3843832</td>\n",
       "    </tr>\n",
       "    <tr>\n",
       "      <th>4</th>\n",
       "      <td>2016-09-05</td>\n",
       "      <td>3873625</td>\n",
       "    </tr>\n",
       "    <tr>\n",
       "      <th>5</th>\n",
       "      <td>2016-09-06</td>\n",
       "      <td>3886464</td>\n",
       "    </tr>\n",
       "    <tr>\n",
       "      <th>6</th>\n",
       "      <td>2016-09-07</td>\n",
       "      <td>3886864</td>\n",
       "    </tr>\n",
       "    <tr>\n",
       "      <th>7</th>\n",
       "      <td>2016-09-08</td>\n",
       "      <td>3887070</td>\n",
       "    </tr>\n",
       "    <tr>\n",
       "      <th>8</th>\n",
       "      <td>2016-09-09</td>\n",
       "      <td>3885333</td>\n",
       "    </tr>\n",
       "    <tr>\n",
       "      <th>9</th>\n",
       "      <td>2016-09-10</td>\n",
       "      <td>3873227</td>\n",
       "    </tr>\n",
       "    <tr>\n",
       "      <th>10</th>\n",
       "      <td>2016-09-11</td>\n",
       "      <td>3846432</td>\n",
       "    </tr>\n",
       "    <tr>\n",
       "      <th>11</th>\n",
       "      <td>2016-09-12</td>\n",
       "      <td>3878395</td>\n",
       "    </tr>\n",
       "    <tr>\n",
       "      <th>12</th>\n",
       "      <td>2016-09-13</td>\n",
       "      <td>3886706</td>\n",
       "    </tr>\n",
       "    <tr>\n",
       "      <th>13</th>\n",
       "      <td>2016-09-14</td>\n",
       "      <td>3887106</td>\n",
       "    </tr>\n",
       "    <tr>\n",
       "      <th>14</th>\n",
       "      <td>2016-09-15</td>\n",
       "      <td>3887112</td>\n",
       "    </tr>\n",
       "    <tr>\n",
       "      <th>15</th>\n",
       "      <td>2016-09-16</td>\n",
       "      <td>3884946</td>\n",
       "    </tr>\n",
       "    <tr>\n",
       "      <th>16</th>\n",
       "      <td>2016-09-17</td>\n",
       "      <td>3874095</td>\n",
       "    </tr>\n",
       "    <tr>\n",
       "      <th>17</th>\n",
       "      <td>2016-09-18</td>\n",
       "      <td>3846203</td>\n",
       "    </tr>\n",
       "    <tr>\n",
       "      <th>18</th>\n",
       "      <td>2016-09-19</td>\n",
       "      <td>3880660</td>\n",
       "    </tr>\n",
       "    <tr>\n",
       "      <th>19</th>\n",
       "      <td>2016-09-20</td>\n",
       "      <td>3890337</td>\n",
       "    </tr>\n",
       "    <tr>\n",
       "      <th>20</th>\n",
       "      <td>2016-09-21</td>\n",
       "      <td>3896099</td>\n",
       "    </tr>\n",
       "    <tr>\n",
       "      <th>21</th>\n",
       "      <td>2016-09-22</td>\n",
       "      <td>3903001</td>\n",
       "    </tr>\n",
       "    <tr>\n",
       "      <th>22</th>\n",
       "      <td>2016-09-23</td>\n",
       "      <td>3900645</td>\n",
       "    </tr>\n",
       "    <tr>\n",
       "      <th>23</th>\n",
       "      <td>2016-09-24</td>\n",
       "      <td>3883286</td>\n",
       "    </tr>\n",
       "    <tr>\n",
       "      <th>24</th>\n",
       "      <td>2016-09-25</td>\n",
       "      <td>3846416</td>\n",
       "    </tr>\n",
       "    <tr>\n",
       "      <th>25</th>\n",
       "      <td>2016-09-26</td>\n",
       "      <td>3893637</td>\n",
       "    </tr>\n",
       "    <tr>\n",
       "      <th>26</th>\n",
       "      <td>2016-09-27</td>\n",
       "      <td>3907225</td>\n",
       "    </tr>\n",
       "    <tr>\n",
       "      <th>27</th>\n",
       "      <td>2016-09-28</td>\n",
       "      <td>3907425</td>\n",
       "    </tr>\n",
       "    <tr>\n",
       "      <th>28</th>\n",
       "      <td>2016-09-29</td>\n",
       "      <td>3906825</td>\n",
       "    </tr>\n",
       "    <tr>\n",
       "      <th>29</th>\n",
       "      <td>2016-09-30</td>\n",
       "      <td>3903448</td>\n",
       "    </tr>\n",
       "  </tbody>\n",
       "</table>\n",
       "</div>"
      ],
      "text/plain": [
       "   predict_date  predict_power_consumption\n",
       "0    2016-09-01                    3864870\n",
       "1    2016-09-02                    3862865\n",
       "2    2016-09-03                    3855547\n",
       "3    2016-09-04                    3843832\n",
       "4    2016-09-05                    3873625\n",
       "5    2016-09-06                    3886464\n",
       "6    2016-09-07                    3886864\n",
       "7    2016-09-08                    3887070\n",
       "8    2016-09-09                    3885333\n",
       "9    2016-09-10                    3873227\n",
       "10   2016-09-11                    3846432\n",
       "11   2016-09-12                    3878395\n",
       "12   2016-09-13                    3886706\n",
       "13   2016-09-14                    3887106\n",
       "14   2016-09-15                    3887112\n",
       "15   2016-09-16                    3884946\n",
       "16   2016-09-17                    3874095\n",
       "17   2016-09-18                    3846203\n",
       "18   2016-09-19                    3880660\n",
       "19   2016-09-20                    3890337\n",
       "20   2016-09-21                    3896099\n",
       "21   2016-09-22                    3903001\n",
       "22   2016-09-23                    3900645\n",
       "23   2016-09-24                    3883286\n",
       "24   2016-09-25                    3846416\n",
       "25   2016-09-26                    3893637\n",
       "26   2016-09-27                    3907225\n",
       "27   2016-09-28                    3907425\n",
       "28   2016-09-29                    3906825\n",
       "29   2016-09-30                    3903448"
      ]
     },
     "execution_count": 18,
     "metadata": {},
     "output_type": "execute_result"
    }
   ],
   "source": [
    "commit_df = pd.date_range('2016/9/1', periods=30, freq='D')\n",
    "commit_df = pd.DataFrame(commit_df)\n",
    "commit_df.columns = ['predict_date']\n",
    "y_predict = gbm.predict(test_data.values)\n",
    "commit_df['predict_power_consumption'] = pd.DataFrame(y_predict).astype('int')\n",
    "commit_df"
   ]
  },
  {
   "cell_type": "code",
   "execution_count": null,
   "metadata": {
    "collapsed": true
   },
   "outputs": [],
   "source": [
    "commit_df['predict_date'] = commit_df['predict_date'].astype(str).apply(lambda x: x.replace(\"-\",\"\"))\n",
    "commit_df.to_csv('Tianchi_power_predict_table_20170519_v4.csv',index=False)"
   ]
  }
 ],
 "metadata": {
  "kernelspec": {
   "display_name": "Python [py27]",
   "language": "python",
   "name": "Python [py27]"
  },
  "language_info": {
   "codemirror_mode": {
    "name": "ipython",
    "version": 2
   },
   "file_extension": ".py",
   "mimetype": "text/x-python",
   "name": "python",
   "nbconvert_exporter": "python",
   "pygments_lexer": "ipython2",
   "version": "2.7.13"
  }
 },
 "nbformat": 4,
 "nbformat_minor": 0
}
