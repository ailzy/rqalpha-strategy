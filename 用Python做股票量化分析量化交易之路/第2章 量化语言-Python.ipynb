{
 "cells": [
  {
   "cell_type": "markdown",
   "metadata": {},
   "source": [
    "# 可命名元组"
   ]
  },
  {
   "cell_type": "code",
   "execution_count": 13,
   "metadata": {},
   "outputs": [],
   "source": [
    "from collections import  namedtuple"
   ]
  },
  {
   "cell_type": "code",
   "execution_count": 27,
   "metadata": {},
   "outputs": [
    {
     "data": {
      "text/plain": [
       "[stock(date='20170118', price='30.1'),\n",
       " stock(date='20170119', price='30.2'),\n",
       " stock(date='20170120', price='31.2'),\n",
       " stock(date='20170121', price='32.3')]"
      ]
     },
     "execution_count": 27,
     "metadata": {},
     "output_type": "execute_result"
    }
   ],
   "source": [
    "date_array = ['20170118', '20170119','20170120','20170121']\n",
    "price_array = ['30.1', '30.2','31.2','32.3']\n",
    "stock_nametuple = namedtuple('stock',('date', 'price'))\n",
    "stock_namedtuple_list = [stock_nametuple(date, price) for\n",
    "                        date, price in zip(date_array, price_array)]\n",
    "stock_namedtuple_list"
   ]
  },
  {
   "cell_type": "markdown",
   "metadata": {},
   "source": [
    "# 有序字典 OrderedDict"
   ]
  },
  {
   "cell_type": "code",
   "execution_count": 18,
   "metadata": {},
   "outputs": [],
   "source": [
    "from collections import  OrderedDict"
   ]
  },
  {
   "cell_type": "code",
   "execution_count": 28,
   "metadata": {},
   "outputs": [
    {
     "data": {
      "text/plain": [
       "OrderedDict([('20170118', '30.1'),\n",
       "             ('20170119', '30.2'),\n",
       "             ('20170120', '31.2'),\n",
       "             ('20170121', '32.3')])"
      ]
     },
     "execution_count": 28,
     "metadata": {},
     "output_type": "execute_result"
    }
   ],
   "source": [
    "stock_dict = OrderedDict(\n",
    "    (date, price) for date, price in zip(date_array, price_array))\n",
    "stock_dict"
   ]
  },
  {
   "cell_type": "markdown",
   "metadata": {},
   "source": [
    "# lambda函数"
   ]
  },
  {
   "cell_type": "code",
   "execution_count": 22,
   "metadata": {},
   "outputs": [
    {
     "data": {
      "text/plain": [
       "('30.1', '20170118')"
      ]
     },
     "execution_count": 22,
     "metadata": {},
     "output_type": "execute_result"
    }
   ],
   "source": [
    "find_second_max_lambad = lambda dict_array: sorted(\n",
    "    zip(dict_array.values(), dict_array.keys()))[-2]\n",
    "find_second_max_lambad(stock_dict)"
   ]
  },
  {
   "cell_type": "markdown",
   "metadata": {},
   "source": [
    "# 高阶函数\n",
    "\n",
    "* map(), 接收两个参数，一个函数，一个序列\n",
    "* filter()， 两个参数，一个函数，一个序列\n",
    "* reduce()， 函数作用在一个序列上，这个函数必须接收两个参数。"
   ]
  },
  {
   "cell_type": "code",
   "execution_count": 29,
   "metadata": {},
   "outputs": [
    {
     "data": {
      "text/plain": [
       "[(30.1, 30.2), (30.2, 31.2), (31.2, 32.3)]"
      ]
     },
     "execution_count": 29,
     "metadata": {},
     "output_type": "execute_result"
    }
   ],
   "source": [
    "# 计算涨跌幅\n",
    "price_float_array = [float(price_str) for price_str in \n",
    "                    stock_dict.values()]\n",
    "pp_array = [(price1, price2) for price1,price2 in \n",
    "           zip(price_float_array[0:-1], price_float_array[1:])]\n",
    "pp_array"
   ]
  },
  {
   "cell_type": "code",
   "execution_count": 53,
   "metadata": {},
   "outputs": [
    {
     "data": {
      "text/plain": [
       "[0.003, 0.033, 0.035]"
      ]
     },
     "execution_count": 53,
     "metadata": {},
     "output_type": "execute_result"
    }
   ],
   "source": [
    "from functools import reduce\n",
    "# 把结果继续和序列的下一个元素做累积计算\n",
    "change_array = map(\n",
    "    lambda pp: reduce(lambda a,b: round((b-a)/a, 3), pp), pp_array)\n",
    "list(change_array)"
   ]
  },
  {
   "cell_type": "markdown",
   "metadata": {},
   "source": [
    "# 面向对象"
   ]
  },
  {
   "cell_type": "code",
   "execution_count": 55,
   "metadata": {},
   "outputs": [],
   "source": [
    "from collections import  namedtuple\n",
    "from collections import  OrderedDict\n",
    "from functools import reduce\n",
    "\n",
    "class StockTradeDays(object):\n",
    "    def __init__(self, price_array, start_date, date_array=None):\n",
    "        self.__price_array = price_array\n",
    "        self.__data_array = data_array\n",
    "        self.__change_array = self.__init_change()\n",
    "        self.stock_dict = self._init_stock_dict()\n",
    "        \n",
    "    def __init_change(self):\n",
    "        price_float_array = [float[price_str] for price_str in \n",
    "                            self.__price_array]\n",
    "        pp_array = [(p1,p2) for p1,p2 in \n",
    "                   zip(price_float_array[:-1], price_float_array[1:])]\n",
    "        change_array = map(\n",
    "            lambda pp: reduce(lambda a,b : round((b-a)/a, 3), pp), pp_array)\n",
    "        return change_array\n",
    "    \n",
    "    def _init_days(self, start_date, date_array):\n",
    "        if date_array is None:\n",
    "            date_array = [str(start_date + ind) for ind,_ in \n",
    "                         enumerate(self.__price_array)]\n",
    "            date_array = [str(date) for date in date_array]\n",
    "            return date_array\n",
    "        \n",
    "    def _init__stock_dict(self):\n",
    "        stock_namedtuple = namedtuple('stock', ('date', 'price', 'change'))\n",
    "        stock_dict = OrderedDict(\n",
    "            (date, stock_nametuple(date, price, change))\n",
    "            for date, price, change in zip(self.__date_array, \n",
    "                                          self.__price_array, self.__change_array))\n",
    "        return stock_dict\n",
    "    \n",
    "    # 筛选结果子集\n",
    "    def filter_stock(self, want_up=True, want_calc_sum=False):\n",
    "        filter_fuc = (lambda day: day.change > 0) if want_up else (lambda day: day.change < 0)\n",
    "        want_days = filter(filter_fuc, self.stock_dict.values())\n",
    "        if not want_calc_sum:\n",
    "            return want_days\n",
    "        change_sum = 0.0\n",
    "        for day in want_days:\n",
    "            change_sum += day.change\n",
    "        return change_sum\n",
    "    \n",
    "    def __str__(self):\n",
    "        return str(self.stock_dict)\n",
    "    \n",
    "    def __iter__(self):\n",
    "        for key in self.stock_dict:\n",
    "            yield self.stock_dict[key]\n",
    "        \n",
    "    def __getitem__(self, ind):\n",
    "        date_key = self.__data_array[ind]\n",
    "        return self.stock_dict[date_key]\n",
    "    \n",
    "    def __len__(self):\n",
    "        return len(self.stock_dict)"
   ]
  },
  {
   "cell_type": "code",
   "execution_count": null,
   "metadata": {},
   "outputs": [],
   "source": []
  }
 ],
 "metadata": {
  "kernelspec": {
   "display_name": "Python 3",
   "language": "python",
   "name": "python3"
  },
  "language_info": {
   "codemirror_mode": {
    "name": "ipython",
    "version": 3
   },
   "file_extension": ".py",
   "mimetype": "text/x-python",
   "name": "python",
   "nbconvert_exporter": "python",
   "pygments_lexer": "ipython3",
   "version": "3.6.0"
  }
 },
 "nbformat": 4,
 "nbformat_minor": 2
}
