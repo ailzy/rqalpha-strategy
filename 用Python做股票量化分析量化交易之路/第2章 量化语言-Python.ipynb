{
 "cells": [
  {
   "cell_type": "markdown",
   "metadata": {},
   "source": [
    "# 可命名元组"
   ]
  },
  {
   "cell_type": "code",
   "execution_count": 26,
   "metadata": {},
   "outputs": [],
   "source": [
    "from collections import  namedtuple"
   ]
  },
  {
   "cell_type": "code",
   "execution_count": 27,
   "metadata": {},
   "outputs": [
    {
     "data": {
      "text/plain": [
       "[stock(date='20170118', price='30.1'),\n",
       " stock(date='20170119', price='30.2'),\n",
       " stock(date='20170120', price='31.2'),\n",
       " stock(date='20170121', price='32.3')]"
      ]
     },
     "execution_count": 27,
     "metadata": {},
     "output_type": "execute_result"
    }
   ],
   "source": [
    "date_array = ['20170118', '20170119','20170120','20170121']\n",
    "price_array = ['30.1', '30.2','31.2','32.3']\n",
    "stock_nametuple = namedtuple('stock',('date', 'price'))\n",
    "stock_namedtuple_list = [stock_nametuple(date, price) for\n",
    "                        date, price in zip(date_array, price_array)]\n",
    "stock_namedtuple_list"
   ]
  },
  {
   "cell_type": "markdown",
   "metadata": {},
   "source": [
    "# 有序字典 OrderedDict"
   ]
  },
  {
   "cell_type": "code",
   "execution_count": 28,
   "metadata": {},
   "outputs": [],
   "source": [
    "from collections import  OrderedDict"
   ]
  },
  {
   "cell_type": "code",
   "execution_count": 29,
   "metadata": {},
   "outputs": [
    {
     "data": {
      "text/plain": [
       "OrderedDict([('20170118', '30.1'),\n",
       "             ('20170119', '30.2'),\n",
       "             ('20170120', '31.2'),\n",
       "             ('20170121', '32.3')])"
      ]
     },
     "execution_count": 29,
     "metadata": {},
     "output_type": "execute_result"
    }
   ],
   "source": [
    "stock_dict = OrderedDict(\n",
    "    (date, price) for date, price in zip(date_array, price_array))\n",
    "stock_dict"
   ]
  },
  {
   "cell_type": "markdown",
   "metadata": {},
   "source": [
    "# lambda函数"
   ]
  },
  {
   "cell_type": "code",
   "execution_count": 30,
   "metadata": {},
   "outputs": [
    {
     "data": {
      "text/plain": [
       "('31.2', '20170120')"
      ]
     },
     "execution_count": 30,
     "metadata": {},
     "output_type": "execute_result"
    }
   ],
   "source": [
    "find_second_max_lambad = lambda dict_array: sorted(\n",
    "    zip(dict_array.values(), dict_array.keys()))[-2]\n",
    "find_second_max_lambad(stock_dict)"
   ]
  },
  {
   "cell_type": "markdown",
   "metadata": {},
   "source": [
    "# 高阶函数\n",
    "\n",
    "* map(), 接收两个参数，一个函数，一个序列\n",
    "* filter()， 两个参数，一个函数，一个序列\n",
    "* reduce()， 函数作用在一个序列上，这个函数必须接收两个参数。"
   ]
  },
  {
   "cell_type": "code",
   "execution_count": 31,
   "metadata": {},
   "outputs": [
    {
     "data": {
      "text/plain": [
       "[(30.1, 30.2), (30.2, 31.2), (31.2, 32.3)]"
      ]
     },
     "execution_count": 31,
     "metadata": {},
     "output_type": "execute_result"
    }
   ],
   "source": [
    "# 计算涨跌幅\n",
    "price_float_array = [float(price_str) for price_str in \n",
    "                    stock_dict.values()]\n",
    "pp_array = [(price1, price2) for price1,price2 in \n",
    "           zip(price_float_array[0:-1], price_float_array[1:])]\n",
    "pp_array"
   ]
  },
  {
   "cell_type": "code",
   "execution_count": 32,
   "metadata": {},
   "outputs": [
    {
     "data": {
      "text/plain": [
       "[0.003, 0.033, 0.035]"
      ]
     },
     "execution_count": 32,
     "metadata": {},
     "output_type": "execute_result"
    }
   ],
   "source": [
    "from functools import reduce\n",
    "# 把结果继续和序列的下一个元素做累积计算\n",
    "change_array = map(\n",
    "    lambda pp: reduce(lambda a,b: round((b-a)/a, 3), pp), pp_array)\n",
    "list(change_array)"
   ]
  },
  {
   "cell_type": "markdown",
   "metadata": {},
   "source": [
    "# 面向对象"
   ]
  },
  {
   "cell_type": "code",
   "execution_count": 56,
   "metadata": {},
   "outputs": [],
   "source": [
    "from collections import  namedtuple\n",
    "from collections import  OrderedDict\n",
    "from functools import reduce\n",
    "\n",
    "# 交易对象\n",
    "class StockTradeDays(object):\n",
    "    def __init__(self, price_array, start_date, date_array=None):\n",
    "        # 价格\n",
    "        self.__price_array = price_array\n",
    "        # 日期序列\n",
    "        self.__date_array = self._init_days(start_date, date_array)\n",
    "        # 涨跌幅序列\n",
    "        self.__change_array = self.__init_change()\n",
    "        # OrderedDict 的组装\n",
    "        self.stock_dict = self._init_stock_dict()\n",
    "        \n",
    "    def __init_change(self):\n",
    "        \"\"\"\n",
    "        用price_array 生成 change_array\n",
    "        \"\"\"\n",
    "        price_float_array = [float(price_str) for price_str in self.__price_array]\n",
    "        pp_array = [(p1,p2) for p1,p2 in zip(price_float_array[:-1], price_float_array[1:])]\n",
    "        change_array = list(map(lambda pp: reduce(lambda a,b : round((b-a)/a, 3), pp), pp_array))\n",
    "        return change_array\n",
    "    \n",
    "    def _init_days(self, start_date, date_array):\n",
    "        \"\"\"\n",
    "            protect 方法\n",
    "        \"\"\"\n",
    "        if date_array is None:\n",
    "            date_array = [str(start_date + ind) for ind,_ in enumerate(self.__price_array)]\n",
    "            date_array = [str(date) for date in date_array]\n",
    "        else:\n",
    "            date_aray = [str(date) for date in date_array]\n",
    "        return date_array\n",
    "        \n",
    "    def _init_stock_dict(self):\n",
    "        \"\"\"\n",
    "        使用 namedtuple, OrderedDict 将结果合并\n",
    "        \"\"\"\n",
    "        # 命名元组\n",
    "        \"\"\"\n",
    "        collections.namedtuple(typename, field_names, verbose=False, rename=False)\n",
    "        返回一个命名元祖子类typename，其中参数的意义如下： \n",
    "        typename,：此元组的名称； \n",
    "        field_names: 元祖中元素的名称（类似于c结构体中的age等），此字段有多种表达方式，见例子； \n",
    "        rename:如果元素名称中含有python的关键字，则必须设置为rename=True,具体见下面； \n",
    "        verbose:默认就好；\n",
    "        \"\"\"\n",
    "        stock_namedtuple = namedtuple('stock',('date', 'price', 'change'))\n",
    "        # 有序字典\n",
    "        stock_dict = OrderedDict((date, stock_namedtuple(date, price, change)) for date, price, change in zip(self.__date_array, self.__price_array, self.__change_array))\n",
    "        return stock_dict\n",
    "    \n",
    "    # 筛选结果子集\n",
    "    def filter_stock(self, want_up=True, want_calc_sum=False):\n",
    "        \"\"\"\n",
    "        want_up 是否刷选上涨\n",
    "        want_cals_sum : 是否计算涨跌幅\n",
    "        \"\"\"\n",
    "        filter_fuc = (lambda day: day.change > 0) if want_up else (lambda day: day.change < 0)\n",
    "        want_days = filter(filter_fuc, self.stock_dict.values())\n",
    "        if not want_calc_sum:\n",
    "            return want_days\n",
    "        change_sum = 0.0\n",
    "        for day in want_days:\n",
    "            change_sum += day.change\n",
    "        return change_sum\n",
    "    \"\"\"\n",
    "    __str__,  __iter__,  __getitem__, __len__ 内建函数\n",
    "    \"\"\"\n",
    "    def __str__(self):\n",
    "        return str(self.stock_dict)\n",
    "    \n",
    "    def __iter__(self):\n",
    "        for key in self.stock_dict:\n",
    "            yield self.stock_dict[key]\n",
    "        \n",
    "    def __getitem__(self, ind):\n",
    "        date_key = self.__date_array[ind]\n",
    "        return self.stock_dict[date_key]\n",
    "    \n",
    "    def __len__(self):\n",
    "        return len(self.stock_dict)"
   ]
  },
  {
   "cell_type": "code",
   "execution_count": 34,
   "metadata": {},
   "outputs": [
    {
     "name": "stdout",
     "output_type": "stream",
     "text": [
      "OrderedDict([('20170118', stock(date='20170118', price='30.14', change=-0.019)), ('20170119', stock(date='20170119', price=' 29.58', change=-0.109)), ('20170120', stock(date='20170120', price=' 26.36', change=0.235)), ('20170121', stock(date='20170121', price=' 32.56', change=0.008))])\n"
     ]
    }
   ],
   "source": [
    "price_array = '30.14, 29.58, 26.36, 32.56, 32.82'.split(',')\n",
    "date_base = 20170118\n",
    "trade_days = StockTradeDays(price_array, date_base)\n",
    "print(trade_days)"
   ]
  },
  {
   "cell_type": "code",
   "execution_count": 35,
   "metadata": {},
   "outputs": [
    {
     "data": {
      "text/plain": [
       "4"
      ]
     },
     "execution_count": 35,
     "metadata": {},
     "output_type": "execute_result"
    }
   ],
   "source": [
    "len(trade_days)"
   ]
  },
  {
   "cell_type": "code",
   "execution_count": 36,
   "metadata": {
    "scrolled": false
   },
   "outputs": [
    {
     "name": "stdout",
     "output_type": "stream",
     "text": [
      "     stock(date='20170118', price='30.14', change=-0.019)\n",
      "     stock(date='20170119', price=' 29.58', change=-0.109)\n",
      "     stock(date='20170120', price=' 26.36', change=0.235)\n",
      "     stock(date='20170121', price=' 32.56', change=0.008)\n"
     ]
    }
   ],
   "source": [
    "from collections import Iterable\n",
    "if isinstance(trade_days, Iterable):\n",
    "    for day in trade_days:\n",
    "        print(\"     \" + str(day))"
   ]
  },
  {
   "cell_type": "code",
   "execution_count": 37,
   "metadata": {},
   "outputs": [
    {
     "data": {
      "text/plain": [
       "<filter at 0x10d90dcc0>"
      ]
     },
     "execution_count": 37,
     "metadata": {},
     "output_type": "execute_result"
    }
   ],
   "source": [
    "trade_days.filter_stock()"
   ]
  },
  {
   "cell_type": "code",
   "execution_count": 38,
   "metadata": {},
   "outputs": [],
   "source": [
    "from abupy import ABuSymbolPd"
   ]
  },
  {
   "cell_type": "code",
   "execution_count": 39,
   "metadata": {},
   "outputs": [
    {
     "data": {
      "text/plain": [
       "([191.17, 193.14, 196.65, 196.12, 189.57],\n",
       " [20161122, 20161123, 20161125, 20161128, 20161129])"
      ]
     },
     "execution_count": 39,
     "metadata": {},
     "output_type": "execute_result"
    }
   ],
   "source": [
    "# 获取2年的 TSLA 的收盘价\n",
    "price_array = ABuSymbolPd.make_kl_df('TSLA', n_folds=2).close.tolist()\n",
    "date_array = ABuSymbolPd.make_kl_df('TSLA', n_folds=2).date.tolist()\n",
    "price_array[:5],date_array[:5]"
   ]
  },
  {
   "cell_type": "code",
   "execution_count": 40,
   "metadata": {},
   "outputs": [
    {
     "data": {
      "text/plain": [
       "502"
      ]
     },
     "execution_count": 40,
     "metadata": {},
     "output_type": "execute_result"
    }
   ],
   "source": [
    "trade_days = StockTradeDays(price_array, date_base, date_array)\n",
    "len(trade_days)"
   ]
  },
  {
   "cell_type": "code",
   "execution_count": 41,
   "metadata": {},
   "outputs": [
    {
     "data": {
      "text/plain": [
       "stock(date=20181119, price=358.88, change=-0.033)"
      ]
     },
     "execution_count": 41,
     "metadata": {},
     "output_type": "execute_result"
    }
   ],
   "source": [
    "trade_days[-2]"
   ]
  },
  {
   "cell_type": "markdown",
   "metadata": {},
   "source": [
    "## 继承与多态"
   ]
  },
  {
   "cell_type": "code",
   "execution_count": 42,
   "metadata": {},
   "outputs": [],
   "source": [
    "import six \n",
    "from abc import ABCMeta, abstractmethod"
   ]
  },
  {
   "cell_type": "code",
   "execution_count": 43,
   "metadata": {},
   "outputs": [],
   "source": [
    "class TradeStrategyBase(six.with_metaclass(ABCMeta, object)):\n",
    "    \"\"\"\n",
    "    交易策略\n",
    "    \"\"\"\n",
    "    # 声明为借口\n",
    "    @abstractmethod\n",
    "    def buy_strategy(self, *args, **kwagrs):\n",
    "        pass\n",
    "    @abstractmethod\n",
    "    def sell_strategy(self, *args, **kwargs):\n",
    "        pass"
   ]
  },
  {
   "cell_type": "code",
   "execution_count": 48,
   "metadata": {},
   "outputs": [],
   "source": [
    "# 策略类\n",
    "class TradeStrategy1(TradeStrategyBase):\n",
    "    \"\"\"\n",
    "    追涨策略： 当股票上涨大于7% 时买入\n",
    "    \"\"\"\n",
    "    s_keep_stock_threshold = 20\n",
    "    def __init__(self):\n",
    "        self.keep_stcok_day = 0\n",
    "        self.__buy_change_threshold = 0.07\n",
    "    \n",
    "    def buy_strategy(self, trade_ind, trade_day, trade_days):\n",
    "        if self.keep_stcok_day == 0 and trade_day.change > self.__buy_change_threshold:\n",
    "            self.keep_stcok_day +=1\n",
    "        elif self.keep_stcok_day > 0:\n",
    "            self.keep_stcok_day +=1\n",
    "            \n",
    "    def sell_strategy(self, trade_ind, trade_day, trade_days):\\\n",
    "        # 持股大于持股阈值，卖出股票\n",
    "        if self.keep_stcok_day >= TrateStrategy1.s_keep_stock_threshold:\n",
    "            self.keep_stcok_day = 0\n",
    "            \n",
    "    @property\n",
    "    def buy_change_threshold(self):\n",
    "        return self.__buy_change_threshold\n",
    "    \n",
    "    @buy_change_threshold.setter\n",
    "    def buy_change_threshold(self, buy_change_threshold):\n",
    "        if not isinstance(buy_change_threshold, float):\n",
    "            \"\"\"\n",
    "            上涨阈值为float类型\n",
    "            \"\"\"\n",
    "            raise TypeError('buy_change_threshold must be float')\n",
    "        self.__buy_change_threshold = round(buy_change_threshold, 2)\n",
    "        \n",
    "# 交易回测类\n",
    "class TradeLoopBack(object):\n",
    "    def __init__(self, trade_days, trade_strategy):\n",
    "        self.trade_days = trade_days\n",
    "        self.trade_strategy = trade_strategy\n",
    "        self.profit_array = []\n",
    "    \n",
    "    def execute_trade(self):\n",
    "        for ind, day in enumerate(self.trade_days):\n",
    "            if self.trade_strategy.keep_stock_day > 0:\n",
    "                self.profit_array.append(day.change)\n",
    "            if hasattr(self.trade_strategy, 'buy_strategy'):\n",
    "                # 买入策略执行\n",
    "                self.trade_strategy.buy_strategy(ind, day, self.trade_days)\n",
    "            if hasattr(self.trade_strategy, 'sell_strategy'):\n",
    "                self.trade_strategy.sell_strategy(ind, day, self.trade_days)\n",
    "                \n",
    "\n",
    "              "
   ]
  },
  {
   "cell_type": "code",
   "execution_count": 62,
   "metadata": {},
   "outputs": [],
   "source": [
    "from functools import  reduce"
   ]
  },
  {
   "cell_type": "code",
   "execution_count": 63,
   "metadata": {},
   "outputs": [
    {
     "name": "stdout",
     "output_type": "stream",
     "text": [
      "[]\n"
     ]
    }
   ],
   "source": [
    " # 两年的TSLA收盘数据 to list\n",
    "price_array = ABuSymbolPd.make_kl_df('TSLA', n_folds=2).close.tolist()\n",
    "# 两年的TSLA收盘日期 to list，这里的写法不考虑效率，只做演示使用\n",
    "date_array = ABuSymbolPd.make_kl_df('TSLA', n_folds=2).date.tolist()\n",
    "\n",
    "trade_days = StockTradeDays(price_array, 0, date_array)\n",
    "trade_loop_back = TradeLoopBack(trade_days, TradeStrategy1())\n",
    "print(trade_loop_back.profit_array)\n",
    "#print('交易策略1总盈亏为:{}%'.format(reduce(lambda a,b: a+b, trade_loop_back.profit_array))*100)"
   ]
  },
  {
   "cell_type": "markdown",
   "metadata": {},
   "source": [
    "# 性能与效率\n",
    "## itertool 的使用"
   ]
  },
  {
   "cell_type": "code",
   "execution_count": 64,
   "metadata": {},
   "outputs": [],
   "source": [
    "import itertools"
   ]
  },
  {
   "cell_type": "code",
   "execution_count": 67,
   "metadata": {},
   "outputs": [
    {
     "name": "stdout",
     "output_type": "stream",
     "text": [
      "    (1, 2, 3)\n",
      "    (1, 3, 2)\n",
      "    (2, 1, 3)\n",
      "    (2, 3, 1)\n",
      "    (3, 1, 2)\n",
      "    (3, 2, 1)\n"
     ]
    }
   ],
   "source": [
    "items = [1,2,3]\n",
    "# 顺序组合元素\n",
    "for item in itertools.permutations(items):\n",
    "    print(\"    \" + str(item))"
   ]
  },
  {
   "cell_type": "code",
   "execution_count": 68,
   "metadata": {},
   "outputs": [
    {
     "name": "stdout",
     "output_type": "stream",
     "text": [
      "  (1, 2)\n",
      "  (1, 3)\n",
      "  (2, 3)\n"
     ]
    }
   ],
   "source": [
    "# 不考虑顺序，不放回数据\n",
    "for item in itertools.combinations(items, 2):\n",
    "    print(\"  \" + str(item))"
   ]
  },
  {
   "cell_type": "code",
   "execution_count": 69,
   "metadata": {},
   "outputs": [
    {
     "name": "stdout",
     "output_type": "stream",
     "text": [
      "  (1, 1)\n",
      "  (1, 2)\n",
      "  (1, 3)\n",
      "  (2, 2)\n",
      "  (2, 3)\n",
      "  (3, 3)\n"
     ]
    }
   ],
   "source": [
    "# 不考虑顺序，有放回\n",
    "for item in itertools.combinations_with_replacement(items, 2):\n",
    "    print(\"  \" + str(item))"
   ]
  },
  {
   "cell_type": "code",
   "execution_count": 70,
   "metadata": {},
   "outputs": [
    {
     "name": "stdout",
     "output_type": "stream",
     "text": [
      "  ('a', 'c')\n",
      "  ('a', 'd')\n",
      "  ('b', 'c')\n",
      "  ('b', 'd')\n"
     ]
    }
   ],
   "source": [
    "# 笛卡尔积\n",
    "ab = ['a', 'b']\n",
    "cd = ['c', 'd']\n",
    "for item in itertools.product(ab, cd):\n",
    "    print('  ' + str(item))"
   ]
  },
  {
   "cell_type": "markdown",
   "metadata": {},
   "source": [
    "## 多进程与多线程"
   ]
  },
  {
   "cell_type": "markdown",
   "metadata": {},
   "source": [
    "### 1. 使用多进程"
   ]
  },
  {
   "cell_type": "code",
   "execution_count": 72,
   "metadata": {},
   "outputs": [],
   "source": [
    "from concurrent.futures import ProcessPoolExecutor\n",
    "result = []\n",
    "def when_donw(r):\n",
    "    result.append(r.result())\n",
    "    with ProcessPoolExecutor as pool:\n",
    "        for keep_stock_threshold, buy_change_threshold in itertools.product(keep_stock_list, buy_change_list):\n",
    "            future_result = pool.submit(calc, keep_stock_threshold, buy_change_threshold)\n",
    "            future_result.add_done_callback(when_donw)\n"
   ]
  },
  {
   "cell_type": "code",
   "execution_count": null,
   "metadata": {},
   "outputs": [],
   "source": []
  }
 ],
 "metadata": {
  "kernelspec": {
   "display_name": "Python 3",
   "language": "python",
   "name": "python3"
  },
  "language_info": {
   "codemirror_mode": {
    "name": "ipython",
    "version": 3
   },
   "file_extension": ".py",
   "mimetype": "text/x-python",
   "name": "python",
   "nbconvert_exporter": "python",
   "pygments_lexer": "ipython3",
   "version": "3.6.0"
  }
 },
 "nbformat": 4,
 "nbformat_minor": 2
}
