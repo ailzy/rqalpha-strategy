{
 "cells": [
  {
   "cell_type": "markdown",
   "metadata": {},
   "source": [
    "## 1. 回归于插值\n",
    "### 1.1线性回归\n",
    "### 1.2多项式回归\n",
    "### 1.3插值\n",
    "\n",
    "## 2. 蒙特卡罗方法与凸优化\n",
    "\n",
    "## 3. 线性代数\n",
    "### 3.1矩阵基础知识\n",
    "### 3.2特征值与特征向量\n",
    "### 3.3PCA和SVD 理论知识\n",
    "### 3.4PCA 和 SVD 使用实例\n",
    "\n"
   ]
  },
  {
   "cell_type": "code",
   "execution_count": null,
   "metadata": {},
   "outputs": [],
   "source": []
  }
 ],
 "metadata": {
  "kernelspec": {
   "display_name": "Python 3",
   "language": "python",
   "name": "python3"
  },
  "language_info": {
   "codemirror_mode": {
    "name": "ipython",
    "version": 3
   },
   "file_extension": ".py",
   "mimetype": "text/x-python",
   "name": "python",
   "nbconvert_exporter": "python",
   "pygments_lexer": "ipython3",
   "version": "3.6.0"
  }
 },
 "nbformat": 4,
 "nbformat_minor": 2
}
