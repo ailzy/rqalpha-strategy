{
 "cells": [
  {
   "cell_type": "code",
   "execution_count": 2,
   "metadata": {},
   "outputs": [],
   "source": [
    "def perf_comp_data(func_list, data_list, rep=3, number=1):\n",
    "    ''' Function to compare the performance of different functions.\n",
    "    '''\n",
    "    from timeit import repeat\n",
    "    res_list = {}\n",
    "    for name in enumerate(func_list):\n",
    "        stmt = name[1] + '(' + data_list[name[0]] + ')'\n",
    "        setup = \"from __main__ import \" + name[1] + ', ' \\\n",
    "                                    + data_list[name[0]]\n",
    "        results = repeat(stmt=stmt, setup=setup,\n",
    "                         repeat=rep, number=number)\n",
    "        res_list[name[1]] = sum(results) / rep\n",
    "    res_sort = sorted(res_list.items(),\n",
    "                      key=lambda x: (x[1], x[0]))\n",
    "    for item in res_sort:\n",
    "        rel = item[1] / res_sort[0][1]\n",
    "        print ('function: ' + item[0] +\n",
    "              ', av. time sec: %9.5f, ' % item[1]\n",
    "            + 'relative: %6.1f' % rel)"
   ]
  },
  {
   "cell_type": "markdown",
   "metadata": {},
   "source": [
    "# 1.Python 泛型与性能"
   ]
  },
  {
   "cell_type": "code",
   "execution_count": 3,
   "metadata": {},
   "outputs": [],
   "source": [
    "from math import *\n",
    "def f(x):\n",
    "    return abs(cos(x))**0.5 + sin(2 + 3*x)"
   ]
  },
  {
   "cell_type": "code",
   "execution_count": 4,
   "metadata": {},
   "outputs": [],
   "source": [
    "# 显示循环标准的python函数\n",
    "def f1(a):\n",
    "    res = []\n",
    "    for x in a:\n",
    "        res.append(f(x))\n",
    "    return res"
   ]
  },
  {
   "cell_type": "code",
   "execution_count": 5,
   "metadata": {},
   "outputs": [],
   "source": [
    "# 隐式循环的迭代字方法\n",
    "def f2(a):\n",
    "    return [f(x) for x in a]"
   ]
  },
  {
   "cell_type": "code",
   "execution_count": 6,
   "metadata": {},
   "outputs": [],
   "source": [
    "# 隐式循环，使用eval的迭代字方法\n",
    "def f3(a):\n",
    "    ex = 'abs(cos(x))**0.5 + sin(2 + 3*x)'\n",
    "    return [eval(ex) for x in a]\n",
    "\n"
   ]
  },
  {
   "cell_type": "code",
   "execution_count": 7,
   "metadata": {},
   "outputs": [],
   "source": [
    "# Numpy 向量化实现\n",
    "def f4(a):\n",
    "    return (np.abs(np.cos(a))**0.5 + np.sin(2 + 3*a))"
   ]
  },
  {
   "cell_type": "code",
   "execution_count": 8,
   "metadata": {},
   "outputs": [],
   "source": [
    "import numexpr as ne\n",
    "# 单线程\n",
    "def f5(a):\n",
    "    ex = 'abs(cos(a)) ** 0.5 + sin(2 + 3*a)'\n",
    "    ne.set_num_threads(1)  # 1个线程\n",
    "    return ne.evaluate(ex)"
   ]
  },
  {
   "cell_type": "code",
   "execution_count": 9,
   "metadata": {},
   "outputs": [],
   "source": [
    "# 多线程\n",
    "def f6(a):\n",
    "    ex = 'abs(cos(a)) ** 0.5 + sin(2 + 3*a)'\n",
    "    ne.set_num_threads(16)  # 16个线程\n",
    "    return ne.evaluate(ex)\n"
   ]
  },
  {
   "cell_type": "code",
   "execution_count": 10,
   "metadata": {},
   "outputs": [],
   "source": [
    "import numpy as np"
   ]
  },
  {
   "cell_type": "code",
   "execution_count": 11,
   "metadata": {},
   "outputs": [],
   "source": [
    "I = 500000\n",
    "a_py = range(I)\n",
    "a_np = np.arange(I)"
   ]
  },
  {
   "cell_type": "code",
   "execution_count": 12,
   "metadata": {
    "scrolled": true
   },
   "outputs": [
    {
     "name": "stdout",
     "output_type": "stream",
     "text": [
      "CPU times: user 9.64 s, sys: 119 ms, total: 9.76 s\n",
      "Wall time: 9.78 s\n"
     ]
    }
   ],
   "source": [
    "%%time\n",
    "r1 = f1(a_py)\n",
    "r2 = f2(a_py)\n",
    "r3 = f3(a_py)\n",
    "r4 = f4(a_np)\n",
    "r5 = f5(a_np)\n",
    "r6 = f6(a_np)"
   ]
  },
  {
   "cell_type": "code",
   "execution_count": 13,
   "metadata": {},
   "outputs": [
    {
     "data": {
      "text/plain": [
       "True"
      ]
     },
     "execution_count": 13,
     "metadata": {},
     "output_type": "execute_result"
    }
   ],
   "source": [
    "np.allclose(r1,r2)"
   ]
  },
  {
   "cell_type": "code",
   "execution_count": 14,
   "metadata": {},
   "outputs": [
    {
     "data": {
      "text/plain": [
       "True"
      ]
     },
     "execution_count": 14,
     "metadata": {},
     "output_type": "execute_result"
    }
   ],
   "source": [
    "np.allclose(r1, r3)"
   ]
  },
  {
   "cell_type": "code",
   "execution_count": 15,
   "metadata": {},
   "outputs": [
    {
     "data": {
      "text/plain": [
       "True"
      ]
     },
     "execution_count": 15,
     "metadata": {},
     "output_type": "execute_result"
    }
   ],
   "source": [
    "np.allclose(r1,r4)"
   ]
  },
  {
   "cell_type": "code",
   "execution_count": 16,
   "metadata": {},
   "outputs": [
    {
     "name": "stdout",
     "output_type": "stream",
     "text": [
      "function: f6, av. time sec:   0.00545, relative:    1.0\n",
      "function: f5, av. time sec:   0.02066, relative:    3.8\n",
      "function: f4, av. time sec:   0.02257, relative:    4.1\n",
      "function: f2, av. time sec:   0.31375, relative:   57.5\n",
      "function: f1, av. time sec:   0.35042, relative:   64.2\n",
      "function: f3, av. time sec:   8.94869, relative: 1640.7\n"
     ]
    }
   ],
   "source": [
    "func_list = ['f1', 'f2', 'f3', 'f4', 'f5', 'f6']\n",
    "data_list = ['a_py', 'a_py', 'a_py', 'a_np', 'a_np', 'a_np']\n",
    "perf_comp_data(func_list, data_list)"
   ]
  },
  {
   "cell_type": "markdown",
   "metadata": {},
   "source": [
    "# 2. 内存布局与性能"
   ]
  },
  {
   "cell_type": "code",
   "execution_count": 17,
   "metadata": {},
   "outputs": [
    {
     "data": {
      "text/plain": [
       "array([[0., 0., 0.],\n",
       "       [0., 0., 0.],\n",
       "       [0., 0., 0.]])"
      ]
     },
     "execution_count": 17,
     "metadata": {},
     "output_type": "execute_result"
    }
   ],
   "source": [
    "import numpy as np\n",
    "# C表示类似行优先，F列优先\n",
    "np.zeros((3,3), dtype=np.float64, order='C')"
   ]
  },
  {
   "cell_type": "code",
   "execution_count": 18,
   "metadata": {},
   "outputs": [],
   "source": [
    "c = np.array([\n",
    "    [1,1,1],\n",
    "    [2,2,2],\n",
    "    [3,3,3]], order='C')  # 行优先\n",
    "\n",
    "f = np.array([\n",
    "    [1,1,1],\n",
    "    [2,2,2],\n",
    "    [3,3,3]], order='F')  # 列优先"
   ]
  },
  {
   "cell_type": "code",
   "execution_count": 19,
   "metadata": {},
   "outputs": [],
   "source": [
    "x = np.random.standard_normal((3, 1500000))\n",
    "C = np.array(x, order= 'C')\n",
    "F = np.array(x, order= 'F')\n",
    "x = 0.0"
   ]
  },
  {
   "cell_type": "code",
   "execution_count": 20,
   "metadata": {},
   "outputs": [
    {
     "name": "stdout",
     "output_type": "stream",
     "text": [
      "7.53 ms ± 660 µs per loop (mean ± std. dev. of 7 runs, 100 loops each)\n"
     ]
    }
   ],
   "source": [
    "%timeit C.sum(axis=0)"
   ]
  },
  {
   "cell_type": "code",
   "execution_count": 21,
   "metadata": {},
   "outputs": [
    {
     "name": "stdout",
     "output_type": "stream",
     "text": [
      "25.5 ms ± 877 µs per loop (mean ± std. dev. of 7 runs, 10 loops each)\n"
     ]
    }
   ],
   "source": [
    "%timeit F.sum(axis=1)"
   ]
  },
  {
   "cell_type": "markdown",
   "metadata": {},
   "source": [
    "# 并行计算"
   ]
  },
  {
   "cell_type": "markdown",
   "metadata": {},
   "source": [
    "![izAkmF.png](https://s1.ax1x.com/2018/11/17/izAkmF.png)"
   ]
  },
  {
   "cell_type": "code",
   "execution_count": 22,
   "metadata": {},
   "outputs": [],
   "source": [
    "def bsm_mcs_valuation(strike):\n",
    "    import numpy as np\n",
    "    S0=100\n",
    "    T=1.0\n",
    "    r= 0.5\n",
    "    vola=0.2\n",
    "    M = 50\n",
    "    I=20000\n",
    "    dt = T/M\n",
    "    rand = np.random.standard_normal((M+1,I))\n",
    "    S = np.zeros((M+1, I))\n",
    "    S[0] = S0\n",
    "    for t in range(1,M+1):\n",
    "        S[t] = S[t-1]*np.exp((r-0.5*vola**2)*dt \n",
    "                            + vola*np.sqrt(dt)*rand[t])\n",
    "    value = (np.exp(-r*T) * \n",
    "                np.sum(np.maximum(S[-1] - strike, 0)) / I)\n",
    "    return value"
   ]
  },
  {
   "cell_type": "code",
   "execution_count": 23,
   "metadata": {},
   "outputs": [],
   "source": [
    "# 顺序化计算\n",
    "def seq_value(n):\n",
    "    strikes = np.linspace(80, 120, n)\n",
    "    option_values = []\n",
    "    for strike in strikes:\n",
    "        option_values.append(bsm_mcs_valuation(strike))\n",
    "    return strikes, option_values"
   ]
  },
  {
   "cell_type": "code",
   "execution_count": 24,
   "metadata": {},
   "outputs": [
    {
     "name": "stdout",
     "output_type": "stream",
     "text": [
      "CPU times: user 4.79 s, sys: 225 ms, total: 5.02 s\n",
      "Wall time: 5.02 s\n",
      "[ 80.          80.4040404   80.80808081  81.21212121  81.61616162\n",
      "  82.02020202  82.42424242  82.82828283  83.23232323  83.63636364\n",
      "  84.04040404  84.44444444  84.84848485  85.25252525  85.65656566\n",
      "  86.06060606  86.46464646  86.86868687  87.27272727  87.67676768\n",
      "  88.08080808  88.48484848  88.88888889  89.29292929  89.6969697\n",
      "  90.1010101   90.50505051  90.90909091  91.31313131  91.71717172\n",
      "  92.12121212  92.52525253  92.92929293  93.33333333  93.73737374\n",
      "  94.14141414  94.54545455  94.94949495  95.35353535  95.75757576\n",
      "  96.16161616  96.56565657  96.96969697  97.37373737  97.77777778\n",
      "  98.18181818  98.58585859  98.98989899  99.39393939  99.7979798\n",
      " 100.2020202  100.60606061 101.01010101 101.41414141 101.81818182\n",
      " 102.22222222 102.62626263 103.03030303 103.43434343 103.83838384\n",
      " 104.24242424 104.64646465 105.05050505 105.45454545 105.85858586\n",
      " 106.26262626 106.66666667 107.07070707 107.47474747 107.87878788\n",
      " 108.28282828 108.68686869 109.09090909 109.49494949 109.8989899\n",
      " 110.3030303  110.70707071 111.11111111 111.51515152 111.91919192\n",
      " 112.32323232 112.72727273 113.13131313 113.53535354 113.93939394\n",
      " 114.34343434 114.74747475 115.15151515 115.55555556 115.95959596\n",
      " 116.36363636 116.76767677 117.17171717 117.57575758 117.97979798\n",
      " 118.38383838 118.78787879 119.19191919 119.5959596  120.        ]\n"
     ]
    }
   ],
   "source": [
    "n=100\n",
    "%time strikes, option_values_seq= seq_value(n)\n",
    "print(strikes)"
   ]
  },
  {
   "cell_type": "code",
   "execution_count": 25,
   "metadata": {},
   "outputs": [
    {
     "data": {
      "text/plain": [
       "Text(0, 0.5, 'European call option values')"
      ]
     },
     "execution_count": 25,
     "metadata": {},
     "output_type": "execute_result"
    },
    {
     "data": {
      "image/png": "[encoded data removed]",
      "text/plain": [
       "<Figure size 576x288 with 1 Axes>"
      ]
     },
     "metadata": {
      "needs_background": "light"
     },
     "output_type": "display_data"
    }
   ],
   "source": [
    "import matplotlib.pyplot as plt\n",
    "%matplotlib inline\n",
    "plt.figure(figsize=(8,4))\n",
    "plt.plot(strikes, option_values_seq, 'b')\n",
    "plt.plot(strikes, option_values_seq, 'r.')\n",
    "plt.grid(True)\n",
    "plt.xlabel('strikes')\n",
    "plt.ylabel('European call option values')"
   ]
  },
  {
   "cell_type": "code",
   "execution_count": 26,
   "metadata": {},
   "outputs": [],
   "source": [
    "import multiprocessing as mp\n",
    "import math\n",
    "def simulate_geometric_brownian_motion(p):\n",
    "    M,I = p # M步长，I样本数\n",
    "    S0=100; r=0.05; sigma = 0.2; T=1.0;\n",
    "    dt = T/M\n",
    "    paths = np.zeros((M+1, I))\n",
    "    paths[0] = S0\n",
    "    for t in range(1, M +1):\n",
    "        paths[t] = paths[t-1] * np.exp(\n",
    "        (r - 0.5 * sigma **2) *dt + sigma * math.sqrt(dt) * np.random.standard_normal(I))\n",
    "        \n",
    "    return paths\n",
    "        "
   ]
  },
  {
   "cell_type": "code",
   "execution_count": 27,
   "metadata": {},
   "outputs": [
    {
     "data": {
      "text/plain": [
       "array([[100.        , 100.        ],\n",
       "       [109.31575302,  99.72784681],\n",
       "       [129.34582866, 106.50522168],\n",
       "       [109.98552958, 121.51757738],\n",
       "       [117.23131372, 125.93111838],\n",
       "       [104.48893281, 124.82681909]])"
      ]
     },
     "execution_count": 27,
     "metadata": {},
     "output_type": "execute_result"
    }
   ],
   "source": [
    "paths = simulate_geometric_brownian_motion((5,2))\n",
    "paths"
   ]
  },
  {
   "cell_type": "code",
   "execution_count": 28,
   "metadata": {},
   "outputs": [],
   "source": [
    "I = 10000\n",
    "M = 100\n",
    "t = 100\n",
    "from time import  time\n",
    "times = []\n",
    "for w in range(1,17):\n",
    "    t0 = time()\n",
    "    pool = mp.Pool(processes=w)\n",
    "    result = pool.map(simulate_geometric_brownian_motion, \n",
    "                      t*[(M,I),])\n",
    "    times.append(time() - t0)"
   ]
  },
  {
   "cell_type": "code",
   "execution_count": 30,
   "metadata": {},
   "outputs": [
    {
     "data": {
      "text/plain": [
       "[14.82122802734375,\n",
       " 10.821824073791504,\n",
       " 8.241225957870483,\n",
       " 6.985442876815796,\n",
       " 6.074697017669678,\n",
       " 6.692692041397095,\n",
       " 5.8422980308532715,\n",
       " 5.07908296585083,\n",
       " 5.610527038574219,\n",
       " 5.057176828384399,\n",
       " 5.426337957382202,\n",
       " 5.8693859577178955,\n",
       " 4.849663019180298,\n",
       " 4.17114520072937,\n",
       " 4.727269172668457,\n",
       " 5.115144968032837]"
      ]
     },
     "execution_count": 30,
     "metadata": {},
     "output_type": "execute_result"
    }
   ],
   "source": [
    "times"
   ]
  },
  {
   "cell_type": "code",
   "execution_count": 32,
   "metadata": {},
   "outputs": [
    {
     "data": {
      "text/plain": [
       "Text(0.5, 1.0, '100 Monte Carlo simulate')"
      ]
     },
     "execution_count": 32,
     "metadata": {},
     "output_type": "execute_result"
    },
    {
     "data": {
      "image/png": "[encoded data removed]",
      "text/plain": [
       "<Figure size 432x288 with 1 Axes>"
      ]
     },
     "metadata": {
      "needs_background": "light"
     },
     "output_type": "display_data"
    }
   ],
   "source": [
    "import matplotlib.pyplot as plt\n",
    "plt.plot(range(1, 17), times)\n",
    "plt.plot(range(1, 17), times, 'ro')\n",
    "plt.grid(True)\n",
    "plt.xlabel('number of processes')\n",
    "plt.ylabel('time in seconds')\n",
    "plt.title('%d Monte Carlo simulate' %t)"
   ]
  },
  {
   "cell_type": "markdown",
   "metadata": {},
   "source": [
    "# 动态编译\n",
    "`Numba`是开源的"
   ]
  },
  {
   "cell_type": "code",
   "execution_count": 33,
   "metadata": {},
   "outputs": [],
   "source": [
    "from math import cos,log\n",
    "def f_py(I,J):\n",
    "    res = 0\n",
    "    for i in range(I):\n",
    "        for j in range(J):\n",
    "            res += int(cos(log(1)))\n",
    "    return res"
   ]
  },
  {
   "cell_type": "code",
   "execution_count": 34,
   "metadata": {},
   "outputs": [
    {
     "name": "stdout",
     "output_type": "stream",
     "text": [
      "CPU times: user 10.5 s, sys: 343 ms, total: 10.8 s\n",
      "Wall time: 10.6 s\n"
     ]
    },
    {
     "data": {
      "text/plain": [
       "25000000"
      ]
     },
     "execution_count": 34,
     "metadata": {},
     "output_type": "execute_result"
    }
   ],
   "source": [
    "I,J = 5000,5000\n",
    "%time f_py(I,J)"
   ]
  },
  {
   "cell_type": "code",
   "execution_count": 37,
   "metadata": {},
   "outputs": [],
   "source": [
    "def f_np(I,J):\n",
    "    a = np.ones((I,J), dtype=np.float64)\n",
    "    return int(np.sum(np.cos(np.log(a)))),a"
   ]
  },
  {
   "cell_type": "code",
   "execution_count": 39,
   "metadata": {},
   "outputs": [
    {
     "name": "stdout",
     "output_type": "stream",
     "text": [
      "CPU times: user 548 ms, sys: 279 ms, total: 827 ms\n",
      "Wall time: 808 ms\n"
     ]
    },
    {
     "data": {
      "text/plain": [
       "(25000000, array([[1., 1., 1., ..., 1., 1., 1.],\n",
       "        [1., 1., 1., ..., 1., 1., 1.],\n",
       "        [1., 1., 1., ..., 1., 1., 1.],\n",
       "        ...,\n",
       "        [1., 1., 1., ..., 1., 1., 1.],\n",
       "        [1., 1., 1., ..., 1., 1., 1.],\n",
       "        [1., 1., 1., ..., 1., 1., 1.]]))"
      ]
     },
     "execution_count": 39,
     "metadata": {},
     "output_type": "execute_result"
    }
   ],
   "source": [
    "%time res,a=f_np(I,J)\n",
    "res,a"
   ]
  },
  {
   "cell_type": "code",
   "execution_count": 40,
   "metadata": {},
   "outputs": [
    {
     "name": "stdout",
     "output_type": "stream",
     "text": [
      "CPU times: user 196 ms, sys: 175 ms, total: 371 ms\n",
      "Wall time: 501 ms\n"
     ]
    },
    {
     "data": {
      "text/plain": [
       "25000000"
      ]
     },
     "execution_count": 40,
     "metadata": {},
     "output_type": "execute_result"
    }
   ],
   "source": [
    "import numba as nb\n",
    "f_nb = nb.jit(f_py)\n",
    "%time f_nb(I,J)"
   ]
  },
  {
   "cell_type": "code",
   "execution_count": 44,
   "metadata": {},
   "outputs": [
    {
     "name": "stdout",
     "output_type": "stream",
     "text": [
      "['I,J', 'I,J', 'I,J']\n",
      "function: f_nb, av. time sec:   0.00000, relative:    1.0\n",
      "function: f_np, av. time sec:   0.71830, relative: 439596.8\n",
      "function: f_py, av. time sec:  10.33231, relative: 6323319.1\n"
     ]
    }
   ],
   "source": [
    "func_list = ['f_py', 'f_np', 'f_nb']\n",
    "data_list = 3*['I,J']\n",
    "print(data_list)\n",
    "perf_comp_data(func_list, data_list)"
   ]
  },
  {
   "cell_type": "markdown",
   "metadata": {},
   "source": [
    "# 二项式期权定价方式"
   ]
  },
  {
   "cell_type": "code",
   "execution_count": 45,
   "metadata": {},
   "outputs": [
    {
     "ename": "SyntaxError",
     "evalue": "invalid character in identifier (<ipython-input-45-b79bb50abe5a>, line 16)",
     "output_type": "error",
     "traceback": [
      "\u001b[0;36m  File \u001b[0;32m\"<ipython-input-45-b79bb50abe5a>\"\u001b[0;36m, line \u001b[0;32m16\u001b[0m\n\u001b[0;31m    S = np.zeros((M+1, M+1)，dtype=np.float64)\u001b[0m\n\u001b[0m                                ^\u001b[0m\n\u001b[0;31mSyntaxError\u001b[0m\u001b[0;31m:\u001b[0m invalid character in identifier\n"
     ]
    }
   ],
   "source": [
    "S0=100\n",
    "T=1\n",
    "r=0.05\n",
    "vola = 0.20\n",
    "\n",
    "M=1000\n",
    "dt = T/M\n",
    "df = exp(-r*dt)\n",
    "\n",
    "u=exp(vola * sqrt(dt))\n",
    "d=1/u \n",
    "q=(exp(r*dt)-d)/(u-d)\n",
    "\n",
    "import numpy as np\n",
    "def binomial_py(strike):\n",
    "    S = np.zeros((M+1, M+1)，dtype=np.float64)\n",
    "    S[0,0] = S0\n",
    "    z1=0\n",
    "    for j in xrange(z1+1):\n",
    "        S[i,j] = S[0,0]*(u**j)*(d**(i*2)\n",
    "    "
   ]
  },
  {
   "cell_type": "markdown",
   "metadata": {},
   "source": [
    "# 用CPython进行静态编译"
   ]
  },
  {
   "cell_type": "code",
   "execution_count": 47,
   "metadata": {},
   "outputs": [],
   "source": [
    "def f_py(I,J):\n",
    "    res = 0\n",
    "    for i in range(I):\n",
    "        for j in range(I*J):\n",
    "            res +=1\n",
    "            \n",
    "    return res"
   ]
  },
  {
   "cell_type": "code",
   "execution_count": 48,
   "metadata": {},
   "outputs": [
    {
     "name": "stdout",
     "output_type": "stream",
     "text": [
      "CPU times: user 7.18 s, sys: 235 ms, total: 7.42 s\n",
      "Wall time: 7.27 s\n"
     ]
    },
    {
     "data": {
      "text/plain": [
       "125000000"
      ]
     },
     "execution_count": 48,
     "metadata": {},
     "output_type": "execute_result"
    }
   ],
   "source": [
    "I,J=500,500\n",
    "%time f_py(I,J)"
   ]
  },
  {
   "cell_type": "code",
   "execution_count": null,
   "metadata": {},
   "outputs": [],
   "source": []
  }
 ],
 "metadata": {
  "kernelspec": {
   "display_name": "Python 3",
   "language": "python",
   "name": "python3"
  },
  "language_info": {
   "codemirror_mode": {
    "name": "ipython",
    "version": 3
   },
   "file_extension": ".py",
   "mimetype": "text/x-python",
   "name": "python",
   "nbconvert_exporter": "python",
   "pygments_lexer": "ipython3",
   "version": "3.6.0"
  }
 },
 "nbformat": 4,
 "nbformat_minor": 2
}
